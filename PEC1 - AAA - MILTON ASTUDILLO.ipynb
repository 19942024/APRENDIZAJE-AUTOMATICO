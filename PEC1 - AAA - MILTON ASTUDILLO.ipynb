{
 "cells": [
  {
   "cell_type": "markdown",
   "id": "0c3d5a28",
   "metadata": {},
   "source": [
    "# PEC 1 Asignatura Aprendizaje Automático Aplicado\n",
    "\n",
    "## Máster en Data Science - UCJC\n",
    "\n",
    "### Curso 2023/2024"
   ]
  },
  {
   "cell_type": "markdown",
   "id": "fcd0de87",
   "metadata": {},
   "source": [
    "Profesor: Francisco Lamas López - francisco.lamas@ucjc.edu\n",
    "\n",
    "- Fecha de entrega a los alumnos: viernes **22DIC2023**\n",
    "\n",
    "\n",
    "- Fecha límite de entrega de soluciones: lunes **08ENE2024**\n",
    "\n",
    "\n",
    "- Fecha orientativa de correcciones: domingo **14ENE2024**"
   ]
  },
  {
   "cell_type": "markdown",
   "id": "04c2a3b1",
   "metadata": {},
   "source": [
    "### INSTRUCCIONES:\n",
    "\n",
    "Resolver individualmente las siguientes 9 preguntas (cada una de las cuales tiene idéntica valoración, 1/9 del total)\n",
    "\n",
    "\n",
    "Se dará una puntuación sobre 10 a cada alumno para esta PEC1 (25% del total de PEC's)\n",
    "\n",
    "\n",
    "Rellenar sobre este Notebook (entregar como archivo .ipynb)\n",
    "\n",
    "**Aspectos importantes a tener en cuenta:**\n",
    "\n",
    "- Seguir los pasos recomendados en cada una de las 9 preguntas (como listas de ítems en el markdown), ya que os servirán como guía para resolverlas\n",
    "\n",
    "- Intentar siempre, en la parte de análisis y comparación, plotear y exponer gráficos cuando sea posible sobre los resultados obtenidos\n",
    "\n",
    "- Comentar y argumentar los resultados obtenidos\n",
    "\n",
    "**En caso de no poder entregarla a través del BlackBoard, enviar antes de la fecha límite al email francisco.lamas@ucjc.edu (explicar en el email error obtenido durante la subida a BlackBoard)**"
   ]
  },
  {
   "cell_type": "markdown",
   "id": "26fc90a0",
   "metadata": {},
   "source": [
    "### ALUMNO (APELLIDOS, NOMBRE):"
   ]
  },
  {
   "cell_type": "markdown",
   "id": "3944e94e-1226-4437-b439-4401107e23a2",
   "metadata": {},
   "source": [
    "ASTUDILLO ASTUDILLO MILTON MAURICIO "
   ]
  },
  {
   "cell_type": "markdown",
   "id": "da911232",
   "metadata": {},
   "source": [
    "### EMAIL ALUMNO:"
   ]
  },
  {
   "cell_type": "markdown",
   "id": "a912fb38-fa4d-4a6c-a876-0d36c01692e2",
   "metadata": {},
   "source": [
    "miltonmauricio.astudillo@alumno.ucjc.edu"
   ]
  },
  {
   "cell_type": "markdown",
   "id": "1a1b7c6d-6e4b-42dc-bc47-d7fea7a62a11",
   "metadata": {},
   "source": [
    "#### Uso de Datasets en la PEC1\n",
    "\n",
    "En esta práctica, nos enfocaremos en utilizar los datasets que están específicamente incluidos en Scikit-learn. Es importante que todos los datasets que utilices provengan de la sección de **Toy Datasets** que puedes encontrar en la documentación oficial de Scikit-learn.\n",
    "\n",
    "Puedes acceder a esta sección a través del siguiente enlace: [Toy Datasets en Scikit-learn](https://scikit-learn.org/stable/datasets/toy_dataset.html).\n",
    "\n",
    "Estos datasets han sido seleccionados por su utilidad y simplicidad para fines educativos, proporcionando una excelente oportunidad para aprender y practicar diversas técnicas de aprendizaje automático. Algunos ejemplos populares de estos datasets incluyen el *Iris dataset*, *Digits dataset*, *Wine dataset*, entre otros.\n",
    "\n",
    "Asegúrate de explorar y utilizar estos datasets para tus ejercila PEC1.ráctica.\n"
   ]
  },
  {
   "cell_type": "markdown",
   "id": "91d70b1d",
   "metadata": {},
   "source": [
    "### Pregunta 1"
   ]
  },
  {
   "cell_type": "markdown",
   "id": "a9504e91",
   "metadata": {},
   "source": [
    "##### Cargar un set de datos y división en distintos porcentajes de train/test\n",
    "\n",
    "\n",
    "- Descarga un dataset de los reseñados arriba\n",
    "- Describe las dimensiones del Dataset\n",
    "- Define si es para hacer Regresión y Clasificación y por qué\n",
    "- Divide los datos en conjuntos de TRAIN y TEST (en diferentes % de test). Pruebe diferentes parámetros del método train_test_split de Scikit-Learn\n",
    "- Evalua las características, dimensiones y contenido de los conjuntos de datos resultantes al dividirlos"
   ]
  },
  {
   "cell_type": "code",
   "execution_count": 48,
   "id": "4b1798bb",
   "metadata": {},
   "outputs": [],
   "source": [
    "import pandas as pd\n",
    "import matplotlib.pyplot as plt\n",
    "from sklearn.datasets import load_iris\n",
    "from sklearn.model_selection import train_test_split\n"
   ]
  },
  {
   "cell_type": "code",
   "execution_count": 2,
   "id": "59d6b671-2ace-4d07-95d4-588bc1887e0c",
   "metadata": {},
   "outputs": [],
   "source": [
    "# Cargamos el conjunto de datos Iris\n",
    "from sklearn.datasets import load_iris \n",
    "iris_dataset = load_iris()"
   ]
  },
  {
   "cell_type": "code",
   "execution_count": 3,
   "id": "0afe5846",
   "metadata": {},
   "outputs": [
    {
     "name": "stdout",
     "output_type": "stream",
     "text": [
      ".. _iris_dataset:\n",
      "\n",
      "Iris plants dataset\n",
      "--------------------\n",
      "\n",
      "**Data Set Characteristics:**\n",
      "\n",
      "    :Number of Instances: 150 (50 in each of three classes)\n",
      "    :Number of Attributes: 4 numeric, pre\n",
      "...\n"
     ]
    }
   ],
   "source": [
    "# descripción del dataset\n",
    "print(iris_dataset['DESCR'][:193] + \"\\n...\")"
   ]
  },
  {
   "cell_type": "code",
   "execution_count": 4,
   "id": "8911a6cb",
   "metadata": {},
   "outputs": [],
   "source": [
    "# Define si es para hacer Regresión y Clasificación y por qué"
   ]
  },
  {
   "cell_type": "markdown",
   "id": "e772f08e",
   "metadata": {},
   "source": [
    "Es una variable de clasificacíon, porque los datos IRIS analiza las tres especies de flores, que se categoriza en: Setosa, Versicolor y Virginica. Estas categorías son etiquetas nominales y no tienen un orden especifico para realizar una regresión.\n"
   ]
  },
  {
   "cell_type": "code",
   "execution_count": 5,
   "id": "5169a748",
   "metadata": {},
   "outputs": [],
   "source": [
    "# División con un 25% para el conjunto de prueba\n",
    "X_train, X_test, y_train, y_test = train_test_split(     \n",
    " iris_dataset['data'], iris_dataset['target'],test_size=0.25, random_state=15)"
   ]
  },
  {
   "cell_type": "markdown",
   "id": "b6740e7b",
   "metadata": {},
   "source": [
    "comprobamos los resultados de la división"
   ]
  },
  {
   "cell_type": "code",
   "execution_count": 6,
   "id": "252d4078-3cc8-4db6-923c-d0fe5b381e68",
   "metadata": {},
   "outputs": [
    {
     "name": "stdout",
     "output_type": "stream",
     "text": [
      "X_train shape: (112, 4)\n",
      "y_train shape: (112,)\n"
     ]
    }
   ],
   "source": [
    "print(\"X_train shape: {}\".format(X_train.shape)) \n",
    "print(\"y_train shape: {}\".format(y_train.shape))"
   ]
  },
  {
   "cell_type": "code",
   "execution_count": 7,
   "id": "056879e2",
   "metadata": {},
   "outputs": [
    {
     "name": "stdout",
     "output_type": "stream",
     "text": [
      "X_test shape: (38, 4)\n",
      "y_test shape: (38,)\n"
     ]
    }
   ],
   "source": [
    "print(\"X_test shape: {}\".format(X_test.shape)) \n",
    "print(\"y_test shape: {}\".format(y_test.shape))"
   ]
  },
  {
   "cell_type": "code",
   "execution_count": 8,
   "id": "f96c21ad",
   "metadata": {},
   "outputs": [],
   "source": [
    "# División con un 30% para el conjunto de prueba\n",
    "X_train, X_test, y_train, y_test = train_test_split(     \n",
    " iris_dataset['data'], iris_dataset['target'],test_size=0.20, random_state=15)"
   ]
  },
  {
   "cell_type": "code",
   "execution_count": 9,
   "id": "21f9cd25",
   "metadata": {},
   "outputs": [
    {
     "name": "stdout",
     "output_type": "stream",
     "text": [
      "X_train shape: (120, 4)\n",
      "y_train shape: (120,)\n"
     ]
    }
   ],
   "source": [
    "print(\"X_train shape: {}\".format(X_train.shape)) \n",
    "print(\"y_train shape: {}\".format(y_train.shape))"
   ]
  },
  {
   "cell_type": "code",
   "execution_count": 10,
   "id": "bb46682c",
   "metadata": {},
   "outputs": [
    {
     "name": "stdout",
     "output_type": "stream",
     "text": [
      "X_test shape: (30, 4)\n",
      "y_test shape: (30,)\n"
     ]
    }
   ],
   "source": [
    "print(\"X_test shape: {}\".format(X_test.shape)) \n",
    "print(\"y_test shape: {}\".format(y_test.shape))"
   ]
  },
  {
   "cell_type": "markdown",
   "id": "49b74102",
   "metadata": {},
   "source": [
    "### Pregunta 2"
   ]
  },
  {
   "cell_type": "markdown",
   "id": "82a482be-8c00-4616-8e79-70cac29d806c",
   "metadata": {},
   "source": [
    "##### Entrenar un modelo de clasificación KNN con un dataset de scikit learn y comparar resultados de predicción entre los conjuntos de train y de test\n",
    "\n",
    "- Carga un dataset proporcionado por Scikit-Learn\n",
    "- Prepara los datos para el entrenamiento del modelo, realizando cualquier paso de pre-procesamiento necesario\n",
    "- Utiliza la función train_test_split para dividir el dataset en conjuntos de entrenamiento y prueba. Ajusta los parámetros adecuadamente para una división equitativa\n",
    "- Instancia un modelo KNN y entrena este modelo con el conjunto de entrenamiento\n",
    "- Evalúa la precisión del modelo tanto en el conjunto de entrenamiento como en el de prueba\n",
    "- Utiliza una métrica de evaluación adecuada para comparar el rendimiento en ambos conjuntos\n",
    "- Analiza los resultados obtenidos (p.e. dibujar y plotear boundary decisions...) y extraer conclusiones pertinentes, especialmente en caso de encontrar diferencias significativas en el rendimiento entre los conjuntos de entrenamiento y prueba"
   ]
  },
  {
   "cell_type": "code",
   "execution_count": 2,
   "id": "cdf66fc5",
   "metadata": {},
   "outputs": [],
   "source": [
    "import matplotlib.pyplot as plt\n",
    "import numpy as np\n",
    "from sklearn.datasets import load_iris\n",
    "from sklearn.model_selection import train_test_split\n",
    "from sklearn.neighbors import KNeighborsClassifier"
   ]
  },
  {
   "cell_type": "code",
   "execution_count": 3,
   "id": "fb03a25f-196b-4a77-8a60-433e550c9ac9",
   "metadata": {},
   "outputs": [],
   "source": [
    "# Cargamos el conjunto de datos Iris\n",
    "\n",
    "from sklearn.datasets import load_iris \n",
    "iris_dataset = load_iris()"
   ]
  },
  {
   "cell_type": "code",
   "execution_count": 4,
   "id": "915d63b4-c1c8-4282-a58d-19a05a164ed8",
   "metadata": {},
   "outputs": [],
   "source": [
    "# División equitativo con un 50% para el conjunto de prueba y entrenamiento \n",
    "X_train, X_test, y_train, y_test = train_test_split(     \n",
    " iris_dataset['data'], iris_dataset['target'],test_size=0.50, random_state=15)"
   ]
  },
  {
   "cell_type": "code",
   "execution_count": 5,
   "id": "9aa73d7c-b3aa-410b-a8bb-68c74f9e300b",
   "metadata": {},
   "outputs": [],
   "source": [
    "# cargamos KN y establecemos el parametro de número de vecinos en 1\n",
    "from sklearn.neighbors import KNeighborsClassifier \n",
    "knn = KNeighborsClassifier(n_neighbors=1)"
   ]
  },
  {
   "cell_type": "markdown",
   "id": "96f164f4",
   "metadata": {},
   "source": [
    "Realizamos el proceso mediante el cual el modelo KNN se \"entrena\" al almacenar los datos de entrenamiento para futuras predicciones. "
   ]
  },
  {
   "cell_type": "code",
   "execution_count": 6,
   "id": "ebf6e5eb",
   "metadata": {},
   "outputs": [
    {
     "data": {
      "text/html": [
       "<style>#sk-container-id-1 {color: black;}#sk-container-id-1 pre{padding: 0;}#sk-container-id-1 div.sk-toggleable {background-color: white;}#sk-container-id-1 label.sk-toggleable__label {cursor: pointer;display: block;width: 100%;margin-bottom: 0;padding: 0.3em;box-sizing: border-box;text-align: center;}#sk-container-id-1 label.sk-toggleable__label-arrow:before {content: \"▸\";float: left;margin-right: 0.25em;color: #696969;}#sk-container-id-1 label.sk-toggleable__label-arrow:hover:before {color: black;}#sk-container-id-1 div.sk-estimator:hover label.sk-toggleable__label-arrow:before {color: black;}#sk-container-id-1 div.sk-toggleable__content {max-height: 0;max-width: 0;overflow: hidden;text-align: left;background-color: #f0f8ff;}#sk-container-id-1 div.sk-toggleable__content pre {margin: 0.2em;color: black;border-radius: 0.25em;background-color: #f0f8ff;}#sk-container-id-1 input.sk-toggleable__control:checked~div.sk-toggleable__content {max-height: 200px;max-width: 100%;overflow: auto;}#sk-container-id-1 input.sk-toggleable__control:checked~label.sk-toggleable__label-arrow:before {content: \"▾\";}#sk-container-id-1 div.sk-estimator input.sk-toggleable__control:checked~label.sk-toggleable__label {background-color: #d4ebff;}#sk-container-id-1 div.sk-label input.sk-toggleable__control:checked~label.sk-toggleable__label {background-color: #d4ebff;}#sk-container-id-1 input.sk-hidden--visually {border: 0;clip: rect(1px 1px 1px 1px);clip: rect(1px, 1px, 1px, 1px);height: 1px;margin: -1px;overflow: hidden;padding: 0;position: absolute;width: 1px;}#sk-container-id-1 div.sk-estimator {font-family: monospace;background-color: #f0f8ff;border: 1px dotted black;border-radius: 0.25em;box-sizing: border-box;margin-bottom: 0.5em;}#sk-container-id-1 div.sk-estimator:hover {background-color: #d4ebff;}#sk-container-id-1 div.sk-parallel-item::after {content: \"\";width: 100%;border-bottom: 1px solid gray;flex-grow: 1;}#sk-container-id-1 div.sk-label:hover label.sk-toggleable__label {background-color: #d4ebff;}#sk-container-id-1 div.sk-serial::before {content: \"\";position: absolute;border-left: 1px solid gray;box-sizing: border-box;top: 0;bottom: 0;left: 50%;z-index: 0;}#sk-container-id-1 div.sk-serial {display: flex;flex-direction: column;align-items: center;background-color: white;padding-right: 0.2em;padding-left: 0.2em;position: relative;}#sk-container-id-1 div.sk-item {position: relative;z-index: 1;}#sk-container-id-1 div.sk-parallel {display: flex;align-items: stretch;justify-content: center;background-color: white;position: relative;}#sk-container-id-1 div.sk-item::before, #sk-container-id-1 div.sk-parallel-item::before {content: \"\";position: absolute;border-left: 1px solid gray;box-sizing: border-box;top: 0;bottom: 0;left: 50%;z-index: -1;}#sk-container-id-1 div.sk-parallel-item {display: flex;flex-direction: column;z-index: 1;position: relative;background-color: white;}#sk-container-id-1 div.sk-parallel-item:first-child::after {align-self: flex-end;width: 50%;}#sk-container-id-1 div.sk-parallel-item:last-child::after {align-self: flex-start;width: 50%;}#sk-container-id-1 div.sk-parallel-item:only-child::after {width: 0;}#sk-container-id-1 div.sk-dashed-wrapped {border: 1px dashed gray;margin: 0 0.4em 0.5em 0.4em;box-sizing: border-box;padding-bottom: 0.4em;background-color: white;}#sk-container-id-1 div.sk-label label {font-family: monospace;font-weight: bold;display: inline-block;line-height: 1.2em;}#sk-container-id-1 div.sk-label-container {text-align: center;}#sk-container-id-1 div.sk-container {/* jupyter's `normalize.less` sets `[hidden] { display: none; }` but bootstrap.min.css set `[hidden] { display: none !important; }` so we also need the `!important` here to be able to override the default hidden behavior on the sphinx rendered scikit-learn.org. See: https://github.com/scikit-learn/scikit-learn/issues/21755 */display: inline-block !important;position: relative;}#sk-container-id-1 div.sk-text-repr-fallback {display: none;}</style><div id=\"sk-container-id-1\" class=\"sk-top-container\"><div class=\"sk-text-repr-fallback\"><pre>KNeighborsClassifier(n_neighbors=1)</pre><b>In a Jupyter environment, please rerun this cell to show the HTML representation or trust the notebook. <br />On GitHub, the HTML representation is unable to render, please try loading this page with nbviewer.org.</b></div><div class=\"sk-container\" hidden><div class=\"sk-item\"><div class=\"sk-estimator sk-toggleable\"><input class=\"sk-toggleable__control sk-hidden--visually\" id=\"sk-estimator-id-1\" type=\"checkbox\" checked><label for=\"sk-estimator-id-1\" class=\"sk-toggleable__label sk-toggleable__label-arrow\">KNeighborsClassifier</label><div class=\"sk-toggleable__content\"><pre>KNeighborsClassifier(n_neighbors=1)</pre></div></div></div></div></div>"
      ],
      "text/plain": [
       "KNeighborsClassifier(n_neighbors=1)"
      ]
     },
     "execution_count": 6,
     "metadata": {},
     "output_type": "execute_result"
    }
   ],
   "source": [
    "knn.fit(X_train, y_train)"
   ]
  },
  {
   "cell_type": "code",
   "execution_count": 7,
   "id": "366ff28c",
   "metadata": {},
   "outputs": [
    {
     "data": {
      "text/plain": [
       "array([0, 1, 1, 0, 0, 1, 2, 1, 1, 2, 2, 1, 1, 1, 2, 0, 1, 2, 0, 2, 1, 0,\n",
       "       1, 1, 0, 0, 2, 2, 2, 1, 0, 2, 2, 2, 0, 0, 1, 0, 0, 1, 2, 0, 0, 1,\n",
       "       2, 1, 0, 1, 0, 2, 2, 2, 2, 1, 1, 1, 0, 1, 2, 2, 2, 2, 0, 1, 1, 2,\n",
       "       1, 0, 1, 0, 0, 2, 1, 1, 1])"
      ]
     },
     "execution_count": 7,
     "metadata": {},
     "output_type": "execute_result"
    }
   ],
   "source": [
    "y_pred_test = knn.predict(X_test) \n",
    "y_pred_test \n",
    "\n",
    "\n"
   ]
  },
  {
   "cell_type": "code",
   "execution_count": 8,
   "id": "27564b3b",
   "metadata": {},
   "outputs": [
    {
     "data": {
      "text/plain": [
       "0.9466666666666667"
      ]
     },
     "execution_count": 8,
     "metadata": {},
     "output_type": "execute_result"
    }
   ],
   "source": [
    "knn.score(X_test, y_test) # realizamos la puntuación del conjunto de prueba "
   ]
  },
  {
   "cell_type": "markdown",
   "id": "857dff4e",
   "metadata": {},
   "source": [
    "Para este modelo, la precisión del conjunto de prueba es de aproximadamente 0.94, lo que significa que hicimos una correcta Predicción para el 94% de los iris en el conjunto de prueba"
   ]
  },
  {
   "cell_type": "code",
   "execution_count": 13,
   "id": "b96023de",
   "metadata": {
    "scrolled": true
   },
   "outputs": [
    {
     "data": {
      "image/png": "[encoded data removed]",
      "text/plain": [
       "<Figure size 640x480 with 1 Axes>"
      ]
     },
     "metadata": {},
     "output_type": "display_data"
    }
   ],
   "source": [
    "# Diagrama de dispersión del conjunto de datos Iris\n",
    "_,ax = plt.subplots()\n",
    "scatter = ax.scatter(iris_dataset.data[:, 0], iris_dataset.data[:, 1], c=iris_dataset.target)\n",
    "ax.set(xlabel=iris_dataset.feature_names[0], ylabel=iris_dataset.feature_names[1])\n",
    "_ = ax.legend(\n",
    "    scatter.legend_elements()[0], iris_dataset.target_names, loc=\"lower right\", title=\"Classes\"\n",
    ")"
   ]
  },
  {
   "cell_type": "markdown",
   "id": "ed105db5",
   "metadata": {},
   "source": [
    "Comprobamos que solamente la especie setosa es linealmente separable de las otras dos."
   ]
  },
  {
   "cell_type": "markdown",
   "id": "6b8e5d61",
   "metadata": {},
   "source": [
    "### Pregunta 3"
   ]
  },
  {
   "cell_type": "markdown",
   "id": "8807d9f4-8380-43ae-9e4a-6fe08201e057",
   "metadata": {},
   "source": [
    "##### Evaluación del Impacto de Parámetros en un Modelo KNN con Scikit-Learn\n",
    "\n",
    "- Elige y carga un dataset proporcionado por Scikit-Learn que sea adecuado para un modelo de clasificación KNN\n",
    "- Realiza cualquier pre-procesamiento necesario en el dataset\n",
    "- Divide el dataset en conjuntos de entrenamiento y prueba utilizando la función train_test_split.\n",
    "- Elige al menos dos parámetros importantes del modelo KNN para evaluar. Algunas sugerencias pueden ser el número de vecinos (n_neighbors) y el tipo de ponderación de los vecinos (weights)\n",
    "- Para cada parámetro, entrena múltiples modelos variando los valores de dicho parámetro mientras mantienes constantes los otros\n",
    "- Utiliza una métrica de rendimiento adecuada, como la precisión, para evaluar el impacto de los distintos valores de cada parámetro en el rendimiento del modelo.\n",
    "- Realiza este proceso para cada parámetro de forma independiente y registra los resultados\n",
    "- Determina qué combinaciones de parámetros ofrecen los mejores resultados y saca conclusiones sobre la importancia de cada parámetro evaluado"
   ]
  },
  {
   "cell_type": "markdown",
   "id": "0a229f37",
   "metadata": {},
   "source": [
    "#### Cargamos el dataset Digist proporcionado por Scikit-Learn (Reconocimiento óptico de un conjunto de datos de dígitos escritos a mano)"
   ]
  },
  {
   "cell_type": "code",
   "execution_count": 14,
   "id": "2b1624ee-1343-4051-8609-7979d8de6029",
   "metadata": {},
   "outputs": [],
   "source": [
    "# Para este caso cargamos el data set Digits \n",
    "\n",
    "from sklearn.datasets import load_digits\n",
    "digits = load_digits()"
   ]
  },
  {
   "cell_type": "code",
   "execution_count": 16,
   "id": "0c2c5531-49a4-494c-b416-fae38671c558",
   "metadata": {},
   "outputs": [
    {
     "data": {
      "text/plain": [
       "(1797, 64)"
      ]
     },
     "execution_count": 16,
     "metadata": {},
     "output_type": "execute_result"
    }
   ],
   "source": [
    "# visualizamos las dimensiones de los datos\n",
    "digits.data.shape"
   ]
  },
  {
   "cell_type": "markdown",
   "id": "add16ff4",
   "metadata": {},
   "source": [
    "#### Visualizamos algunas de las imágenes para entender mejor los datos con los que estamos trabajando."
   ]
  },
  {
   "cell_type": "code",
   "execution_count": 38,
   "id": "ae1bc4ea-8fb8-46f3-a923-f735b9ba35ce",
   "metadata": {},
   "outputs": [
    {
     "data": {
      "image/png": "[encoded data removed]",
      "text/plain": [
       "<Figure size 640x480 with 4 Axes>"
      ]
     },
     "metadata": {},
     "output_type": "display_data"
    }
   ],
   "source": [
    "# Definir el número de imágenes a visualizar\n",
    "num_images = 4\n",
    "\n",
    "# Seleccionar imágenes para visualizar\n",
    "for i in range(num_images):\n",
    "    plt.subplot(1, num_images, i + 1)\n",
    "    plt.imshow(digits.images[i], cmap=plt.cm.gray_r, interpolation='nearest')\n",
    "    plt.title('Label: %i' % digits.target[i])\n",
    "plt.show()\n"
   ]
  },
  {
   "cell_type": "markdown",
   "id": "c835955d",
   "metadata": {},
   "source": [
    "#### Dividimos el dataset en conjuntos de entrenamiento y prueba utilizando la función train_test_split."
   ]
  },
  {
   "cell_type": "code",
   "execution_count": 22,
   "id": "a9741d06",
   "metadata": {},
   "outputs": [],
   "source": [
    "# Dividimos los datos en entrenamiento y prueba con un 70% y 30% respectivamente.\n",
    "X_train, X_test, y_train, y_test = train_test_split(digits.data, digits.target, test_size=0.3, random_state=18)\n"
   ]
  },
  {
   "cell_type": "markdown",
   "id": "f8082e5e",
   "metadata": {},
   "source": [
    "####  Elegimos los parámetros n_neighbors y weights para evaluar. Entrenamos múltiples modelos variando los valores de dicho parámetro mientras mantienes constantes los otros y utilizamos una métrica de rendimiento model.score"
   ]
  },
  {
   "cell_type": "code",
   "execution_count": 27,
   "id": "26f3159e",
   "metadata": {},
   "outputs": [
    {
     "name": "stdout",
     "output_type": "stream",
     "text": [
      "n_neighbors=1: 0.9888888888888889\n",
      "n_neighbors=3: 0.9888888888888889\n",
      "n_neighbors=5: 0.9907407407407407\n",
      "n_neighbors=7: 0.9907407407407407\n",
      "n_neighbors=9: 0.9888888888888889\n"
     ]
    }
   ],
   "source": [
    "# para n_neibors\n",
    "\n",
    "for n_neighbors in [1, 3, 5, 7, 9]:\n",
    "    model = KNeighborsClassifier(n_neighbors=n_neighbors)\n",
    "    model.fit(X_train, y_train)\n",
    "    accuracy = model.score(X_test, y_test)\n",
    "    print(f\"n_neighbors={n_neighbors}: {accuracy}\")\n",
    "\n"
   ]
  },
  {
   "cell_type": "markdown",
   "id": "fa8973bc",
   "metadata": {},
   "source": [
    "El rendimiento del modelo mejora a medida que aumenta el valor de n_neighbors. Esto se debe a que un valor mayor de n_neighbors considera más vecinos cuando calcula la predicción, lo que puede ayudar a reducir el ruido y mejorar la precisión."
   ]
  },
  {
   "cell_type": "code",
   "execution_count": 28,
   "id": "fa78b17b",
   "metadata": {},
   "outputs": [
    {
     "name": "stdout",
     "output_type": "stream",
     "text": [
      "weights=uniform: 0.9907407407407407\n",
      "weights=distance: 0.9888888888888889\n"
     ]
    }
   ],
   "source": [
    "# Para weights\n",
    "\n",
    "for weights in [\"uniform\", \"distance\"]:\n",
    "    model = KNeighborsClassifier(n_neighbors=5, weights=weights)\n",
    "    model.fit(X_train, y_train)\n",
    "    accuracy = model.score(X_test, y_test)\n",
    "    print(f\"weights={weights}: {accuracy}\")\n"
   ]
  },
  {
   "cell_type": "markdown",
   "id": "27e704b2",
   "metadata": {},
   "source": [
    " El método de ponderación uniforme (uniform) tiene un rendimiento ligeramente mejor que el método de ponderación por distancia (distance)."
   ]
  },
  {
   "cell_type": "markdown",
   "id": "5d83bbea-834a-4de6-aabc-1781695cb40d",
   "metadata": {},
   "source": [
    "### Pregunta 4"
   ]
  },
  {
   "cell_type": "markdown",
   "id": "5e7cf6f9-02a8-4187-a817-97c1175b4743",
   "metadata": {},
   "source": [
    "##### Evaluación de la Influencia de la Normalización en Modelos de Regresión con Scikit-Learn\n",
    "\n",
    "- Elige y carga un dataset de regresión proporcionado por Scikit-Learn\n",
    "- Utiliza la función train_test_split para dividir el dataset en conjuntos de entrenamiento y prueba\n",
    "- Elige un modelo de regresión para la evaluación. Por ejemplo, puedes elegir la Regresión Lineal o la Regresión de Ridge\n",
    "- Estos modelos son representativos y permiten evaluar cómo la normalización influye en diferentes enfoques de regresión (Influye más con Ridge)\n",
    "- Selecciona al menos dos métodos de normalización, como la normalización Min-Max y la estandarización StandardScaler\n",
    "- Aplica cada método de normalización por separado al conjunto de entrenamiento y ajusta el conjunto de prueba de manera correspondiente\n",
    "- Para cada versión normalizada del conjunto de entrenamiento, entrena ambos modelos de regresión seleccionados\n",
    "- Mantén constantes los demás parámetros del modelo para cada tipo de normalización para asegurar una comparación justa\n",
    "- Utiliza métricas de rendimiento adecuadas para la regresión, como el error cuadrático medio (MSE) o el coeficiente de determinación (R²), para evaluar cada modelo en el conjunto de prueba\n",
    "- Compara el rendimiento de los modelos con diferentes métodos de normalización\n",
    "- Basándote en los resultados, concluye sobre la importancia de la normalización en los modelos de regresión seleccionados y su influencia en la precisión del modelo"
   ]
  },
  {
   "cell_type": "markdown",
   "id": "a9d1c3ee",
   "metadata": {},
   "source": [
    "#### Cargamos el dataset boston (conjunto de datos sobre precios de la vivienda en Boston)"
   ]
  },
  {
   "cell_type": "code",
   "execution_count": 75,
   "id": "28a34039-aea6-4cd1-98e8-f3da2f262e0f",
   "metadata": {},
   "outputs": [],
   "source": [
    "# cargamos el dato desde link proporcionado https://github.com/scikit-learn/scikit-learn/blob/main/sklearn/datasets/data/boston_house_prices.csv\n",
    "boston_url = \"https://raw.githubusercontent.com/scikit-learn/scikit-learn/main/sklearn/datasets/data/boston_house_prices.csv\""
   ]
  },
  {
   "cell_type": "code",
   "execution_count": 76,
   "id": "aa60246e",
   "metadata": {},
   "outputs": [],
   "source": [
    "boston = pd.read_csv(medals_url, header=1)"
   ]
  },
  {
   "cell_type": "code",
   "execution_count": 77,
   "id": "1ee7fa2f",
   "metadata": {},
   "outputs": [
    {
     "data": {
      "text/html": [
       "<div>\n",
       "<style scoped>\n",
       "    .dataframe tbody tr th:only-of-type {\n",
       "        vertical-align: middle;\n",
       "    }\n",
       "\n",
       "    .dataframe tbody tr th {\n",
       "        vertical-align: top;\n",
       "    }\n",
       "\n",
       "    .dataframe thead th {\n",
       "        text-align: right;\n",
       "    }\n",
       "</style>\n",
       "<table border=\"1\" class=\"dataframe\">\n",
       "  <thead>\n",
       "    <tr style=\"text-align: right;\">\n",
       "      <th></th>\n",
       "      <th>CRIM</th>\n",
       "      <th>ZN</th>\n",
       "      <th>INDUS</th>\n",
       "      <th>CHAS</th>\n",
       "      <th>NOX</th>\n",
       "      <th>RM</th>\n",
       "      <th>AGE</th>\n",
       "      <th>DIS</th>\n",
       "      <th>RAD</th>\n",
       "      <th>TAX</th>\n",
       "      <th>PTRATIO</th>\n",
       "      <th>B</th>\n",
       "      <th>LSTAT</th>\n",
       "      <th>MEDV</th>\n",
       "    </tr>\n",
       "  </thead>\n",
       "  <tbody>\n",
       "    <tr>\n",
       "      <th>0</th>\n",
       "      <td>0.00632</td>\n",
       "      <td>18.0</td>\n",
       "      <td>2.31</td>\n",
       "      <td>0</td>\n",
       "      <td>0.538</td>\n",
       "      <td>6.575</td>\n",
       "      <td>65.2</td>\n",
       "      <td>4.0900</td>\n",
       "      <td>1</td>\n",
       "      <td>296</td>\n",
       "      <td>15.3</td>\n",
       "      <td>396.90</td>\n",
       "      <td>4.98</td>\n",
       "      <td>24.0</td>\n",
       "    </tr>\n",
       "    <tr>\n",
       "      <th>1</th>\n",
       "      <td>0.02731</td>\n",
       "      <td>0.0</td>\n",
       "      <td>7.07</td>\n",
       "      <td>0</td>\n",
       "      <td>0.469</td>\n",
       "      <td>6.421</td>\n",
       "      <td>78.9</td>\n",
       "      <td>4.9671</td>\n",
       "      <td>2</td>\n",
       "      <td>242</td>\n",
       "      <td>17.8</td>\n",
       "      <td>396.90</td>\n",
       "      <td>9.14</td>\n",
       "      <td>21.6</td>\n",
       "    </tr>\n",
       "    <tr>\n",
       "      <th>2</th>\n",
       "      <td>0.02729</td>\n",
       "      <td>0.0</td>\n",
       "      <td>7.07</td>\n",
       "      <td>0</td>\n",
       "      <td>0.469</td>\n",
       "      <td>7.185</td>\n",
       "      <td>61.1</td>\n",
       "      <td>4.9671</td>\n",
       "      <td>2</td>\n",
       "      <td>242</td>\n",
       "      <td>17.8</td>\n",
       "      <td>392.83</td>\n",
       "      <td>4.03</td>\n",
       "      <td>34.7</td>\n",
       "    </tr>\n",
       "    <tr>\n",
       "      <th>3</th>\n",
       "      <td>0.03237</td>\n",
       "      <td>0.0</td>\n",
       "      <td>2.18</td>\n",
       "      <td>0</td>\n",
       "      <td>0.458</td>\n",
       "      <td>6.998</td>\n",
       "      <td>45.8</td>\n",
       "      <td>6.0622</td>\n",
       "      <td>3</td>\n",
       "      <td>222</td>\n",
       "      <td>18.7</td>\n",
       "      <td>394.63</td>\n",
       "      <td>2.94</td>\n",
       "      <td>33.4</td>\n",
       "    </tr>\n",
       "    <tr>\n",
       "      <th>4</th>\n",
       "      <td>0.06905</td>\n",
       "      <td>0.0</td>\n",
       "      <td>2.18</td>\n",
       "      <td>0</td>\n",
       "      <td>0.458</td>\n",
       "      <td>7.147</td>\n",
       "      <td>54.2</td>\n",
       "      <td>6.0622</td>\n",
       "      <td>3</td>\n",
       "      <td>222</td>\n",
       "      <td>18.7</td>\n",
       "      <td>396.90</td>\n",
       "      <td>5.33</td>\n",
       "      <td>36.2</td>\n",
       "    </tr>\n",
       "  </tbody>\n",
       "</table>\n",
       "</div>"
      ],
      "text/plain": [
       "      CRIM    ZN  INDUS  CHAS    NOX     RM   AGE     DIS  RAD  TAX  PTRATIO  \\\n",
       "0  0.00632  18.0   2.31     0  0.538  6.575  65.2  4.0900    1  296     15.3   \n",
       "1  0.02731   0.0   7.07     0  0.469  6.421  78.9  4.9671    2  242     17.8   \n",
       "2  0.02729   0.0   7.07     0  0.469  7.185  61.1  4.9671    2  242     17.8   \n",
       "3  0.03237   0.0   2.18     0  0.458  6.998  45.8  6.0622    3  222     18.7   \n",
       "4  0.06905   0.0   2.18     0  0.458  7.147  54.2  6.0622    3  222     18.7   \n",
       "\n",
       "        B  LSTAT  MEDV  \n",
       "0  396.90   4.98  24.0  \n",
       "1  396.90   9.14  21.6  \n",
       "2  392.83   4.03  34.7  \n",
       "3  394.63   2.94  33.4  \n",
       "4  396.90   5.33  36.2  "
      ]
     },
     "execution_count": 77,
     "metadata": {},
     "output_type": "execute_result"
    }
   ],
   "source": [
    "boston.head()"
   ]
  },
  {
   "cell_type": "code",
   "execution_count": 79,
   "id": "ad6001b9-ee4a-4e46-a438-67372251f0ed",
   "metadata": {},
   "outputs": [],
   "source": [
    "# tomamos 'MEDV' como la columna objetivo\n",
    "X = boston.drop(columns='MEDV')  # Características\n",
    "y = boston['MEDV']  # Variable objetivo\n"
   ]
  },
  {
   "cell_type": "markdown",
   "id": "343293a3",
   "metadata": {},
   "source": [
    "#### Dividimos el dataset en conjuntos de entrenamiento y prueba en una proporción de 75% entrenamiento y 25% prueba "
   ]
  },
  {
   "cell_type": "code",
   "execution_count": 81,
   "id": "9045f2b1",
   "metadata": {},
   "outputs": [],
   "source": [
    "from sklearn.model_selection import train_test_split\n",
    "\n",
    "X_train, X_test, y_train, y_test = train_test_split(X, y, test_size=0.25, random_state=15)"
   ]
  },
  {
   "cell_type": "markdown",
   "id": "a6e14b62",
   "metadata": {},
   "source": [
    "#### Elegimos el modelo de regresión lineal como modelo de regresión para la evaluación."
   ]
  },
  {
   "cell_type": "code",
   "execution_count": 85,
   "id": "e0a8196d",
   "metadata": {},
   "outputs": [],
   "source": [
    "from sklearn.linear_model import LinearRegression\n",
    "\n",
    "model = LinearRegression()"
   ]
  },
  {
   "cell_type": "code",
   "execution_count": 90,
   "id": "4c547d1f",
   "metadata": {},
   "outputs": [],
   "source": [
    "#Seleccionamos los métodos de normalización: Normalización Min-Max y Estandarización StandardScaler\n",
    "\n",
    "from sklearn.preprocessing import MinMaxScaler, StandardScaler\n",
    "\n",
    "# Normalización Min-Max\n",
    "min_max_scaler = MinMaxScaler()\n",
    "X_train_min_max = min_max_scaler.fit_transform(X_train)\n",
    "X_test_min_max = min_max_scaler.transform(X_test)\n",
    "\n",
    "# Estandarización StandardScaler\n",
    "standard_scaler = StandardScaler()\n",
    "X_train_standard = standard_scaler.fit_transform(X_train)\n",
    "X_test_standard = standard_scaler.transform(X_test)\n"
   ]
  },
  {
   "cell_type": "markdown",
   "id": "a492920f",
   "metadata": {},
   "source": [
    "#### Aplicamos la normalización"
   ]
  },
  {
   "cell_type": "code",
   "execution_count": 91,
   "id": "ed620e66",
   "metadata": {},
   "outputs": [
    {
     "data": {
      "text/html": [
       "<style>#sk-container-id-3 {color: black;}#sk-container-id-3 pre{padding: 0;}#sk-container-id-3 div.sk-toggleable {background-color: white;}#sk-container-id-3 label.sk-toggleable__label {cursor: pointer;display: block;width: 100%;margin-bottom: 0;padding: 0.3em;box-sizing: border-box;text-align: center;}#sk-container-id-3 label.sk-toggleable__label-arrow:before {content: \"▸\";float: left;margin-right: 0.25em;color: #696969;}#sk-container-id-3 label.sk-toggleable__label-arrow:hover:before {color: black;}#sk-container-id-3 div.sk-estimator:hover label.sk-toggleable__label-arrow:before {color: black;}#sk-container-id-3 div.sk-toggleable__content {max-height: 0;max-width: 0;overflow: hidden;text-align: left;background-color: #f0f8ff;}#sk-container-id-3 div.sk-toggleable__content pre {margin: 0.2em;color: black;border-radius: 0.25em;background-color: #f0f8ff;}#sk-container-id-3 input.sk-toggleable__control:checked~div.sk-toggleable__content {max-height: 200px;max-width: 100%;overflow: auto;}#sk-container-id-3 input.sk-toggleable__control:checked~label.sk-toggleable__label-arrow:before {content: \"▾\";}#sk-container-id-3 div.sk-estimator input.sk-toggleable__control:checked~label.sk-toggleable__label {background-color: #d4ebff;}#sk-container-id-3 div.sk-label input.sk-toggleable__control:checked~label.sk-toggleable__label {background-color: #d4ebff;}#sk-container-id-3 input.sk-hidden--visually {border: 0;clip: rect(1px 1px 1px 1px);clip: rect(1px, 1px, 1px, 1px);height: 1px;margin: -1px;overflow: hidden;padding: 0;position: absolute;width: 1px;}#sk-container-id-3 div.sk-estimator {font-family: monospace;background-color: #f0f8ff;border: 1px dotted black;border-radius: 0.25em;box-sizing: border-box;margin-bottom: 0.5em;}#sk-container-id-3 div.sk-estimator:hover {background-color: #d4ebff;}#sk-container-id-3 div.sk-parallel-item::after {content: \"\";width: 100%;border-bottom: 1px solid gray;flex-grow: 1;}#sk-container-id-3 div.sk-label:hover label.sk-toggleable__label {background-color: #d4ebff;}#sk-container-id-3 div.sk-serial::before {content: \"\";position: absolute;border-left: 1px solid gray;box-sizing: border-box;top: 0;bottom: 0;left: 50%;z-index: 0;}#sk-container-id-3 div.sk-serial {display: flex;flex-direction: column;align-items: center;background-color: white;padding-right: 0.2em;padding-left: 0.2em;position: relative;}#sk-container-id-3 div.sk-item {position: relative;z-index: 1;}#sk-container-id-3 div.sk-parallel {display: flex;align-items: stretch;justify-content: center;background-color: white;position: relative;}#sk-container-id-3 div.sk-item::before, #sk-container-id-3 div.sk-parallel-item::before {content: \"\";position: absolute;border-left: 1px solid gray;box-sizing: border-box;top: 0;bottom: 0;left: 50%;z-index: -1;}#sk-container-id-3 div.sk-parallel-item {display: flex;flex-direction: column;z-index: 1;position: relative;background-color: white;}#sk-container-id-3 div.sk-parallel-item:first-child::after {align-self: flex-end;width: 50%;}#sk-container-id-3 div.sk-parallel-item:last-child::after {align-self: flex-start;width: 50%;}#sk-container-id-3 div.sk-parallel-item:only-child::after {width: 0;}#sk-container-id-3 div.sk-dashed-wrapped {border: 1px dashed gray;margin: 0 0.4em 0.5em 0.4em;box-sizing: border-box;padding-bottom: 0.4em;background-color: white;}#sk-container-id-3 div.sk-label label {font-family: monospace;font-weight: bold;display: inline-block;line-height: 1.2em;}#sk-container-id-3 div.sk-label-container {text-align: center;}#sk-container-id-3 div.sk-container {/* jupyter's `normalize.less` sets `[hidden] { display: none; }` but bootstrap.min.css set `[hidden] { display: none !important; }` so we also need the `!important` here to be able to override the default hidden behavior on the sphinx rendered scikit-learn.org. See: https://github.com/scikit-learn/scikit-learn/issues/21755 */display: inline-block !important;position: relative;}#sk-container-id-3 div.sk-text-repr-fallback {display: none;}</style><div id=\"sk-container-id-3\" class=\"sk-top-container\"><div class=\"sk-text-repr-fallback\"><pre>LinearRegression()</pre><b>In a Jupyter environment, please rerun this cell to show the HTML representation or trust the notebook. <br />On GitHub, the HTML representation is unable to render, please try loading this page with nbviewer.org.</b></div><div class=\"sk-container\" hidden><div class=\"sk-item\"><div class=\"sk-estimator sk-toggleable\"><input class=\"sk-toggleable__control sk-hidden--visually\" id=\"sk-estimator-id-3\" type=\"checkbox\" checked><label for=\"sk-estimator-id-3\" class=\"sk-toggleable__label sk-toggleable__label-arrow\">LinearRegression</label><div class=\"sk-toggleable__content\"><pre>LinearRegression()</pre></div></div></div></div></div>"
      ],
      "text/plain": [
       "LinearRegression()"
      ]
     },
     "execution_count": 91,
     "metadata": {},
     "output_type": "execute_result"
    }
   ],
   "source": [
    "# Normalización Min-Max\n",
    "model.fit(X_train_min_max, y_train)\n",
    "\n",
    "# Estandarización StandardScaler\n",
    "model.fit(X_train_standard, y_train)\n"
   ]
  },
  {
   "cell_type": "markdown",
   "id": "527e326a",
   "metadata": {},
   "source": [
    "Aplicamos cada método de normalización por separado al conjunto de entrenamiento y ajustamos el conjunto de prueba de manera correspondiente."
   ]
  },
  {
   "cell_type": "markdown",
   "id": "7a2697d3",
   "metadata": {},
   "source": [
    "#### Evaluamos el rendimiento"
   ]
  },
  {
   "cell_type": "code",
   "execution_count": 99,
   "id": "94494c80",
   "metadata": {},
   "outputs": [],
   "source": [
    "from sklearn.metrics import mean_squared_error\n",
    "\n",
    "# Normalización Min-Max\n",
    "mse_min_max = mean_squared_error(y_test, model.predict(X_test_min_max))\n",
    "\n",
    "# Estandarización StandardScaler\n",
    "mse_standard = mean_squared_error(y_test, model.predict(X_test_standard))\n"
   ]
  },
  {
   "cell_type": "markdown",
   "id": "1930d8f6",
   "metadata": {},
   "source": [
    "Utilizamos el error cuadrático medio (MSE) para evaluar el rendimiento de cada modelo en el conjunto de prueba."
   ]
  },
  {
   "cell_type": "markdown",
   "id": "a8e014e3",
   "metadata": {},
   "source": [
    "#### Comparación de los resultados"
   ]
  },
  {
   "cell_type": "code",
   "execution_count": 100,
   "id": "7839ed72",
   "metadata": {},
   "outputs": [
    {
     "data": {
      "text/plain": [
       "67.02828636674698"
      ]
     },
     "execution_count": 100,
     "metadata": {},
     "output_type": "execute_result"
    }
   ],
   "source": [
    "mse_min_max"
   ]
  },
  {
   "cell_type": "code",
   "execution_count": 97,
   "id": "701d9d15",
   "metadata": {},
   "outputs": [
    {
     "data": {
      "text/plain": [
       "26.341512654279246"
      ]
     },
     "execution_count": 97,
     "metadata": {},
     "output_type": "execute_result"
    }
   ],
   "source": [
    "mse_standard"
   ]
  },
  {
   "cell_type": "markdown",
   "id": "848f7145",
   "metadata": {},
   "source": [
    "El MSE obtenido con la estandarización StandardScaler (26.34) es menor que el MSE obtenido con la normalización Min-Max (67.02). Esto sugiere que la estandarización ha sido más efectiva en este caso para mejorar el rendimiento del modelo."
   ]
  },
  {
   "cell_type": "markdown",
   "id": "3b306ec0",
   "metadata": {},
   "source": [
    "#### Conclusión"
   ]
  },
  {
   "cell_type": "markdown",
   "id": "5f678ad8",
   "metadata": {},
   "source": [
    "En base a los resultados obtenidos, podemos concluir que la normalización es importante para los modelos de regresión lineal. La normalización ayuda a mejorar el rendimiento del modelo al reducir la varianza de los datos."
   ]
  },
  {
   "cell_type": "markdown",
   "id": "ffe8490a",
   "metadata": {},
   "source": [
    "### Pregunta 5"
   ]
  },
  {
   "cell_type": "markdown",
   "id": "f490b97c-d8b9-4b0a-b8a5-7e96a9cfb6e5",
   "metadata": {},
   "source": [
    "##### Comparación de Modelos de Regresión Ridge, Lasso y Elastic Net con Scikit-Learn\n",
    "\n",
    "- Importa los módulos necesarios para utilizar la regresión Ridge, Lasso y Elastic Net\n",
    "- Elige y carga un dataset de Scikit-Learn adecuado para la regresión\n",
    "- Realiza cualquier pre-procesamiento necesario en el dataset, **como la normalización de características si es necesario**\n",
    "- Divide el dataset en conjuntos de entrenamiento y prueba usando la función train_test_split\n",
    "- Configura y entrena un modelo de regresión para Ridge, Lasso y Elastic Net con el conjunto de entrenamiento.\n",
    "- Asegúrate de experimentar con diferentes hiperparámetros para cada modelo, como el coeficiente de regularización\n",
    "- Evalúa cada modelo con el conjunto de prueba utilizando métricas adecuadas para regresión, como el error cuadrático medio (MSE) o el coeficiente de determinación (R²)\n",
    "- Compara cómo diferentes valores de hiperparámetros afectan el rendimiento de cada modelo.\n",
    "- Analiza los resultados obtenidos y determina cuál modelo y configuración de hiperparámetros ofrece el mejor rendimiento\n",
    "- Concluye sobre las características de cada modelo y cómo influyen en el ajuste a los datos"
   ]
  },
  {
   "cell_type": "code",
   "execution_count": 33,
   "id": "0d7f81d4-e51d-453a-a9dc-d8c6714bfd31",
   "metadata": {},
   "outputs": [],
   "source": [
    "import numpy as np\n",
    "import pandas as pd\n",
    "from sklearn.linear_model import Ridge, Lasso, ElasticNet\n",
    "from sklearn.model_selection import train_test_split\n"
   ]
  },
  {
   "cell_type": "code",
   "execution_count": 34,
   "id": "0b2150b0-f5d3-4414-8eaf-e05b32b80593",
   "metadata": {},
   "outputs": [],
   "source": [
    "# Cargamos el dataset desde el enlace proporcionado\n",
    "boston_url = \"https://raw.githubusercontent.com/scikit-learn/scikit-learn/main/sklearn/datasets/data/boston_house_prices.csv\"\n",
    "boston = pd.read_csv(boston_url, header=1)"
   ]
  },
  {
   "cell_type": "code",
   "execution_count": 35,
   "id": "5e5a6925-e882-4ac0-8f93-81875d35736a",
   "metadata": {},
   "outputs": [],
   "source": [
    "# Normalización de características\n",
    "# tomamos 'MEDV' como la columna objetivo\n",
    "X = boston.drop(columns='MEDV')  # Características\n",
    "y = boston['MEDV']  # Variable objetivo\n"
   ]
  },
  {
   "cell_type": "markdown",
   "id": "4fbb2f19",
   "metadata": {},
   "source": [
    "#### Dividimos el dataset en conjuntos de entrenamiento y prueba en una proporción de 75% entrenamiento y 25% prueba "
   ]
  },
  {
   "cell_type": "code",
   "execution_count": 36,
   "id": "75a1041d",
   "metadata": {},
   "outputs": [],
   "source": [
    "from sklearn.model_selection import train_test_split\n",
    "\n",
    "X_train, X_test, y_train, y_test = train_test_split(X, y, test_size=0.25, random_state=15)"
   ]
  },
  {
   "cell_type": "markdown",
   "id": "e15f76e2",
   "metadata": {},
   "source": [
    "#### Configuración y entrenamiento de los modelos"
   ]
  },
  {
   "cell_type": "code",
   "execution_count": 37,
   "id": "843d36e9",
   "metadata": {},
   "outputs": [],
   "source": [
    "# Configuración de los modelos\n",
    "ridge = Ridge(alpha=0.1)\n",
    "lasso = Lasso(alpha=0.1)\n",
    "elastic_net = ElasticNet(alpha=0.1, l1_ratio=0.5)\n",
    "\n"
   ]
  },
  {
   "cell_type": "code",
   "execution_count": 39,
   "id": "f1c01cc4",
   "metadata": {},
   "outputs": [
    {
     "data": {
      "text/html": [
       "<style>#sk-container-id-3 {color: black;}#sk-container-id-3 pre{padding: 0;}#sk-container-id-3 div.sk-toggleable {background-color: white;}#sk-container-id-3 label.sk-toggleable__label {cursor: pointer;display: block;width: 100%;margin-bottom: 0;padding: 0.3em;box-sizing: border-box;text-align: center;}#sk-container-id-3 label.sk-toggleable__label-arrow:before {content: \"▸\";float: left;margin-right: 0.25em;color: #696969;}#sk-container-id-3 label.sk-toggleable__label-arrow:hover:before {color: black;}#sk-container-id-3 div.sk-estimator:hover label.sk-toggleable__label-arrow:before {color: black;}#sk-container-id-3 div.sk-toggleable__content {max-height: 0;max-width: 0;overflow: hidden;text-align: left;background-color: #f0f8ff;}#sk-container-id-3 div.sk-toggleable__content pre {margin: 0.2em;color: black;border-radius: 0.25em;background-color: #f0f8ff;}#sk-container-id-3 input.sk-toggleable__control:checked~div.sk-toggleable__content {max-height: 200px;max-width: 100%;overflow: auto;}#sk-container-id-3 input.sk-toggleable__control:checked~label.sk-toggleable__label-arrow:before {content: \"▾\";}#sk-container-id-3 div.sk-estimator input.sk-toggleable__control:checked~label.sk-toggleable__label {background-color: #d4ebff;}#sk-container-id-3 div.sk-label input.sk-toggleable__control:checked~label.sk-toggleable__label {background-color: #d4ebff;}#sk-container-id-3 input.sk-hidden--visually {border: 0;clip: rect(1px 1px 1px 1px);clip: rect(1px, 1px, 1px, 1px);height: 1px;margin: -1px;overflow: hidden;padding: 0;position: absolute;width: 1px;}#sk-container-id-3 div.sk-estimator {font-family: monospace;background-color: #f0f8ff;border: 1px dotted black;border-radius: 0.25em;box-sizing: border-box;margin-bottom: 0.5em;}#sk-container-id-3 div.sk-estimator:hover {background-color: #d4ebff;}#sk-container-id-3 div.sk-parallel-item::after {content: \"\";width: 100%;border-bottom: 1px solid gray;flex-grow: 1;}#sk-container-id-3 div.sk-label:hover label.sk-toggleable__label {background-color: #d4ebff;}#sk-container-id-3 div.sk-serial::before {content: \"\";position: absolute;border-left: 1px solid gray;box-sizing: border-box;top: 0;bottom: 0;left: 50%;z-index: 0;}#sk-container-id-3 div.sk-serial {display: flex;flex-direction: column;align-items: center;background-color: white;padding-right: 0.2em;padding-left: 0.2em;position: relative;}#sk-container-id-3 div.sk-item {position: relative;z-index: 1;}#sk-container-id-3 div.sk-parallel {display: flex;align-items: stretch;justify-content: center;background-color: white;position: relative;}#sk-container-id-3 div.sk-item::before, #sk-container-id-3 div.sk-parallel-item::before {content: \"\";position: absolute;border-left: 1px solid gray;box-sizing: border-box;top: 0;bottom: 0;left: 50%;z-index: -1;}#sk-container-id-3 div.sk-parallel-item {display: flex;flex-direction: column;z-index: 1;position: relative;background-color: white;}#sk-container-id-3 div.sk-parallel-item:first-child::after {align-self: flex-end;width: 50%;}#sk-container-id-3 div.sk-parallel-item:last-child::after {align-self: flex-start;width: 50%;}#sk-container-id-3 div.sk-parallel-item:only-child::after {width: 0;}#sk-container-id-3 div.sk-dashed-wrapped {border: 1px dashed gray;margin: 0 0.4em 0.5em 0.4em;box-sizing: border-box;padding-bottom: 0.4em;background-color: white;}#sk-container-id-3 div.sk-label label {font-family: monospace;font-weight: bold;display: inline-block;line-height: 1.2em;}#sk-container-id-3 div.sk-label-container {text-align: center;}#sk-container-id-3 div.sk-container {/* jupyter's `normalize.less` sets `[hidden] { display: none; }` but bootstrap.min.css set `[hidden] { display: none !important; }` so we also need the `!important` here to be able to override the default hidden behavior on the sphinx rendered scikit-learn.org. See: https://github.com/scikit-learn/scikit-learn/issues/21755 */display: inline-block !important;position: relative;}#sk-container-id-3 div.sk-text-repr-fallback {display: none;}</style><div id=\"sk-container-id-3\" class=\"sk-top-container\"><div class=\"sk-text-repr-fallback\"><pre>ElasticNet(alpha=0.1)</pre><b>In a Jupyter environment, please rerun this cell to show the HTML representation or trust the notebook. <br />On GitHub, the HTML representation is unable to render, please try loading this page with nbviewer.org.</b></div><div class=\"sk-container\" hidden><div class=\"sk-item\"><div class=\"sk-estimator sk-toggleable\"><input class=\"sk-toggleable__control sk-hidden--visually\" id=\"sk-estimator-id-3\" type=\"checkbox\" checked><label for=\"sk-estimator-id-3\" class=\"sk-toggleable__label sk-toggleable__label-arrow\">ElasticNet</label><div class=\"sk-toggleable__content\"><pre>ElasticNet(alpha=0.1)</pre></div></div></div></div></div>"
      ],
      "text/plain": [
       "ElasticNet(alpha=0.1)"
      ]
     },
     "execution_count": 39,
     "metadata": {},
     "output_type": "execute_result"
    }
   ],
   "source": [
    "# Entrenamiento de los modelos\n",
    "ridge.fit(X_train, y_train)\n",
    "lasso.fit(X_train, y_train)\n",
    "elastic_net.fit(X_train, y_train)"
   ]
  },
  {
   "cell_type": "markdown",
   "id": "b362ee03",
   "metadata": {},
   "source": [
    "#### Evaluación de los modelos"
   ]
  },
  {
   "cell_type": "code",
   "execution_count": 115,
   "id": "cbc8aa33",
   "metadata": {},
   "outputs": [],
   "source": [
    "from sklearn.metrics import mean_squared_error, r2_score \n",
    "\n",
    "# Evaluación de los modelos\n",
    "\n",
    "ridge_mse = mean_squared_error(y_test, ridge.predict(X_test))\n",
    "ridge_r2 = r2_score(y_test, ridge.predict(X_test))\n",
    "\n",
    "lasso_mse = mean_squared_error(y_test, lasso.predict(X_test))\n",
    "lasso_r2 = r2_score(y_test, lasso.predict(X_test))\n",
    "\n",
    "elastic_net_mse = mean_squared_error(y_test, elastic_net.predict(X_test))\n",
    "elastic_net_r2 = r2_score(y_test, elastic_net.predict(X_test))\n"
   ]
  },
  {
   "cell_type": "markdown",
   "id": "6baeaae0",
   "metadata": {},
   "source": [
    "#### Comparación de los resultados"
   ]
  },
  {
   "cell_type": "code",
   "execution_count": 116,
   "id": "bf367695",
   "metadata": {},
   "outputs": [
    {
     "name": "stdout",
     "output_type": "stream",
     "text": [
      "MSE (Ridge): 26.193237329372035\n",
      "MSE (Lasso): 26.34919069213835\n",
      "MSE (Elastic Net): 26.42098505784879\n",
      "R² (Ridge): 0.6867837323448021\n",
      "R² (Lasso): 0.6849188567053497\n",
      "R² (Elastic Net): 0.684060346434789\n"
     ]
    }
   ],
   "source": [
    "print(\"MSE (Ridge):\", ridge_mse)\n",
    "print(\"MSE (Lasso):\", lasso_mse)\n",
    "print(\"MSE (Elastic Net):\", elastic_net_mse)\n",
    "\n",
    "print(\"R² (Ridge):\", ridge_r2)\n",
    "print(\"R² (Lasso):\", lasso_r2)\n",
    "print(\"R² (Elastic Net):\", elastic_net_r2)\n"
   ]
  },
  {
   "cell_type": "markdown",
   "id": "ad5f2cbf",
   "metadata": {},
   "source": [
    "Los resultados obtenidos muestran que los tres modelos de regresión lineal realizados fueron capaces de explicar alrededor del 68 % de la varianza de la variable de destino, el valor mediano de la vivienda (MEDV). Ridge tuvo un rendimiento ligeramente mejor que Lasso y Elastic Net, en términos de MSE y R²."
   ]
  },
  {
   "cell_type": "markdown",
   "id": "41a05ca1",
   "metadata": {},
   "source": [
    "#### Conclusión sobre las características de cada modelo y cómo influyen en el ajuste a los datos"
   ]
  },
  {
   "cell_type": "markdown",
   "id": "16848105",
   "metadata": {},
   "source": [
    "Ridge: La fuerza de regularización de Ridge controla la cantidad de regularización aplicada. Una fuerza de regularización más alta penalizará más a los coeficientes del modelo, lo que puede ayudar a evitar el sobreajuste pero también puede reducir la capacidad predictiva del modelo.\n",
    "\n",
    "Lasso: La fuerza de regularización de Lasso también controla la cantidad de regularización aplicada. Sin embargo, Lasso también tiene la capacidad de forzar a algunos coeficientes a ser cero. Esto puede ser útil para eliminar variables que no son significativas o que están correlacionadas con otras variables.\n",
    "\n",
    "Elastic Net: La fuerza de regularización de Elastic Net es una combinación de las fuerzas de regularización de Ridge y Lasso. Esto permite al modelo encontrar un equilibrio entre la capacidad predictiva y la capacidad de evitar el sobreajuste.\n"
   ]
  },
  {
   "cell_type": "markdown",
   "id": "4b982713",
   "metadata": {},
   "source": [
    "### Pregunta 6"
   ]
  },
  {
   "cell_type": "markdown",
   "id": "1b3e51e8-1d94-4331-9340-eb39122c1fc7",
   "metadata": {},
   "source": [
    "##### Entrenar un modelo de SVM con kernel no lineal, con un dataset de scikit-learn (para clasificación binaria, como el breast_cancer) y evaluar la influencia de sus parámetros\n",
    "\n",
    "- Importa svm para el modelo SVM\n",
    "- Elige un dataset proporcionado por Scikit-Learn adecuado para clasificación binaria\n",
    "- Divide el dataset en conjuntos de entrenamiento y prueba utilizando la función train_test_split\n",
    "- Configura el modelo SVM seleccionando un kernel no lineal, como 'rbf', 'poly', o 'sigmoid'\n",
    "- Asegúrate de entender las implicaciones de cada tipo de kernel y cómo pueden afectar el modelo\n",
    "- Varía los parámetros importantes del kernel elegido, como C (parámetro de regularización), gamma (parámetro del kernel), y otros parámetros específicos del kernel como el grado en el caso del kernel polinómico.\n",
    "- Entrena múltiples modelos con diferentes combinaciones de estos parámetros\n",
    "- Utiliza una métrica de evaluación adecuada para evaluar el modelo en el conjunto de prueba, como la precisión, el área bajo la curva ROC, etc...\n",
    "- Compara cómo diferentes valores de parámetros afectan el rendimiento del modelo\n",
    "- Reflexiona sobre cómo la selección y ajuste de parámetros pueden mejorar o empeorar el modelo"
   ]
  },
  {
   "cell_type": "code",
   "execution_count": 1,
   "id": "30a1a699-c993-4962-9042-8ae87bb8403b",
   "metadata": {},
   "outputs": [],
   "source": [
    "import numpy as np\n",
    "import matplotlib.pyplot as plt\n",
    "from sklearn.datasets import load_breast_cancer\n",
    "from sklearn.model_selection import train_test_split\n",
    "from sklearn.svm import SVC\n"
   ]
  },
  {
   "cell_type": "code",
   "execution_count": 2,
   "id": "560fa5b7-6fd5-40b4-94f3-9111fb5b6bf7",
   "metadata": {},
   "outputs": [],
   "source": [
    "cancer = load_breast_cancer()\n"
   ]
  },
  {
   "cell_type": "markdown",
   "id": "0810dafc",
   "metadata": {},
   "source": [
    "#### División del dataset"
   ]
  },
  {
   "cell_type": "code",
   "execution_count": 17,
   "id": "6264f8eb",
   "metadata": {},
   "outputs": [],
   "source": [
    "X_train, X_test, y_train, y_test = train_test_split(cancer.data, cancer.target, test_size=0.25, random_state=42)\n"
   ]
  },
  {
   "cell_type": "markdown",
   "id": "929d96f9",
   "metadata": {},
   "source": [
    "#### Vamos a utilizar un kernel no lineal. En este caso, vamos a utilizar el kernel RBF."
   ]
  },
  {
   "cell_type": "code",
   "execution_count": 18,
   "id": "6b05947e",
   "metadata": {},
   "outputs": [],
   "source": [
    "kernel = \"rbf\"\n",
    "C = 1.0\n",
    "gamma = \"auto\"\n"
   ]
  },
  {
   "cell_type": "markdown",
   "id": "6b0ccaa7",
   "metadata": {},
   "source": [
    "También vamos a variar los siguientes parámetros:\n",
    "\n",
    "C: Parámetro de regularización. Controla la complejidad del modelo. Valores más altos de C penalizan más los coeficientes del modelo, lo que puede ayudar a evitar el sobreajuste pero también puede reducir la capacidad predictiva del modelo.\n",
    "\n",
    "Gamma: Parámetro del kernel. Controla la amplitud de la función del kernel. Valores más altos de gamma hacen que la función del kernel sea más sensible a las diferencias entre los puntos de datos.\n",
    "Python"
   ]
  },
  {
   "cell_type": "markdown",
   "id": "cb5ac1ab",
   "metadata": {},
   "source": [
    "#### Para cada combinación de parámetros, vamos a entrenar un modelo de SVM y evaluar su rendimiento en el conjunto de prueba utilizando la métrica de precisión"
   ]
  },
  {
   "cell_type": "code",
   "execution_count": 31,
   "id": "3e81be5e",
   "metadata": {},
   "outputs": [],
   "source": [
    "def train_and_evaluate(C, gamma):\n",
    "    # Crear un modelo SVM con un kernel específico, C y gamma\n",
    "    model = SVC(kernel=kernel, C=C, gamma=gamma)\n",
    "\n",
    "    # Entrenar el modelo con los datos de entrenamiento\n",
    "    model.fit(X_train, y_train)\n",
    "\n",
    "    # Hacer predicciones en el conjunto de prueba\n",
    "    predictions = model.predict(X_test)\n",
    "\n",
    "    # Calcular la precisión comparando las predicciones con las etiquetas reales\n",
    "    accuracy = np.mean(y_test == predictions)\n",
    "\n",
    "    # Devolver la precisión del modelo\n",
    "    return accuracy\n",
    "\n",
    "# Diccionario para almacenar los resultados\n",
    "results = {}\n",
    "\n",
    "# Iterar sobre una serie de valores para C\n",
    "for C in [0.1, 1.0, 10.0]:\n",
    "    # Iterar sobre los diferentes valores de gamma\n",
    "    for gamma in [\"auto\", \"scale\"]:\n",
    "        # Entrenar el modelo y evaluar la precisión con los valores actuales de C y gamma\n",
    "        accuracy = train_and_evaluate(C, gamma)\n",
    "\n",
    "        # Almacenar la precisión en el diccionario con una clave que representa la configuración actual\n",
    "        results[f\"C={C}, gamma={gamma}\"] = accuracy\n",
    "\n",
    "# Al final, 'results' contendrá la precisión para cada combinación de C y gamma\n",
    "\n"
   ]
  },
  {
   "cell_type": "code",
   "execution_count": 32,
   "id": "2bc5da86",
   "metadata": {},
   "outputs": [
    {
     "data": {
      "text/plain": [
       "{'C=0.1, gamma=auto': 0.6223776223776224,\n",
       " 'C=0.1, gamma=scale': 0.9300699300699301,\n",
       " 'C=1.0, gamma=auto': 0.6223776223776224,\n",
       " 'C=1.0, gamma=scale': 0.951048951048951,\n",
       " 'C=10.0, gamma=auto': 0.6223776223776224,\n",
       " 'C=10.0, gamma=scale': 0.951048951048951}"
      ]
     },
     "execution_count": 32,
     "metadata": {},
     "output_type": "execute_result"
    }
   ],
   "source": [
    "results "
   ]
  },
  {
   "cell_type": "markdown",
   "id": "c643aa97",
   "metadata": {},
   "source": [
    "#### Conclusiones \n"
   ]
  },
  {
   "cell_type": "markdown",
   "id": "bdf4526c",
   "metadata": {},
   "source": [
    "\n",
    "- Gamma auto vs scale: Con auto, el modelo tiene un rendimiento bajo, independientemente del valor de C. Con scale, la precisión mejora notablemente.\n",
    "\n",
    "- Valor de C (Regularización): Aumentar C de 0.1 a 1.0 mejora la precisión, pero no hay mucha diferencia al aumentarlo a 10 Esto sugiere que un valor medio de C es óptimo para este conjunto de datos.\n",
    "\n",
    "El ajuste scale para gamma y un valor intermedio de C proporciona los mejores resultados en términos de precisión para el modelo SVM en este dataset."
   ]
  },
  {
   "cell_type": "markdown",
   "id": "cc9637ec-3c3a-48ec-9ffe-49bd62d968a6",
   "metadata": {},
   "source": [
    "### Pregunta 7"
   ]
  },
  {
   "cell_type": "markdown",
   "id": "6a2667a4-6eb6-4a35-97bc-b2738689d91f",
   "metadata": {},
   "source": [
    "##### Realización de estrategias diferentes de Cross-Validation sobre un conjunto de datos y evaluar los resultados\n",
    "\n",
    "- Elige y carga un dataset proporcionado por Scikit-Learn que sea adecuado para el tipo de análisis que vas a realizar\n",
    "- Si es necesario, realiza preprocesamientos como la **normalización** o la codificación de variables categóricas\n",
    "- Elige un modelo de aprendizaje automático de Scikit-Learn adecuado para tu dataset entre los vistos en clase hasta ahora\n",
    "- Selecciona al menos dos estrategias de validación cruzada para comparar. Por ejemplo, podrías elegir la validación cruzada K-Fold estándar (que la puedes configurar directamente con un número en el método cross_val_score), la validación cruzada estratificada (Stratified K-Fold) o la Repeated Stratified K-Fold\n",
    "- Utiliza las funciones de Scikit-Learn para aplicar cada estrategia de validación cruzada al modelo y al conjunto de datos\n",
    "- Registra los resultados de rendimiento que establezcas para cada iteración de la validación cruzada\n",
    "- Analiza los resultados obtenidos de cada estrategia de validación cruzada\n",
    "- Compara las métricas de rendimiento que establezcas, entre las diferentes estrategias, para ver cuál de los Cross-Validation ofrece una evaluación más robusta o resultados más consistentes (evaluar dispersión de los resultados para las repeticiones de cada fold)\n",
    "- Reflexiona sobre cómo la elección de la estrategia de validación cruzada puede influir en la interpretación de la capacidad predictiva del modelo"
   ]
  },
  {
   "cell_type": "code",
   "execution_count": 19,
   "id": "6f837a34-62f8-45e0-baf9-dd018240c45b",
   "metadata": {},
   "outputs": [],
   "source": [
    "import numpy as np\n",
    "import pandas as pd"
   ]
  },
  {
   "cell_type": "markdown",
   "id": "5f873950",
   "metadata": {},
   "source": [
    "\n",
    "#### Elegimos el dataset de Iris de Scikit-Learn"
   ]
  },
  {
   "cell_type": "code",
   "execution_count": 20,
   "id": "faa66482-cafa-49c4-a8d7-35b53090e33e",
   "metadata": {},
   "outputs": [],
   "source": [
    "from sklearn.datasets import load_iris\n",
    "iris = load_iris()\n",
    "X = iris.data\n",
    "y = iris.target"
   ]
  },
  {
   "cell_type": "markdown",
   "id": "e04bc9fc",
   "metadata": {},
   "source": [
    "####  Normalizamos las características"
   ]
  },
  {
   "cell_type": "code",
   "execution_count": 21,
   "id": "229415ec",
   "metadata": {},
   "outputs": [],
   "source": [
    "from sklearn.preprocessing import StandardScaler\n",
    "\n",
    "sc = StandardScaler()\n",
    "X = sc.fit_transform(X)"
   ]
  },
  {
   "cell_type": "markdown",
   "id": "ab15b459",
   "metadata": {},
   "source": [
    "#### Elegimos el modelo de aprendizaje automático(SVM)"
   ]
  },
  {
   "cell_type": "code",
   "execution_count": 22,
   "id": "055b2361",
   "metadata": {},
   "outputs": [],
   "source": [
    "from sklearn.svm import SVC\n",
    "clf = SVC()\n"
   ]
  },
  {
   "cell_type": "markdown",
   "id": "127f99d9",
   "metadata": {},
   "source": [
    "Seleccionamos dos estrategias de validación cruzada para comparar:\n",
    "\n",
    "Validación cruzada K-Fold estándar: Esta estrategia divide el conjunto de datos en K subconjuntos. El modelo se entrena en K-1 subconjuntos y se evalúa en el subconjunto restante.\n",
    "\n",
    "Validación cruzada estratificada: Esta estrategia divide el conjunto de datos en K subconjuntos de forma que la distribución de la variable de respuesta sea similar en cada subconjunto. "
   ]
  },
  {
   "cell_type": "markdown",
   "id": "9ff34b51",
   "metadata": {},
   "source": [
    "#### Aplicamos la validación cruzada K-Fold estándar"
   ]
  },
  {
   "cell_type": "code",
   "execution_count": 23,
   "id": "cab05c19",
   "metadata": {},
   "outputs": [
    {
     "data": {
      "text/plain": [
       "array([0.96666667, 0.96666667, 0.96666667, 0.93333333, 1.        ])"
      ]
     },
     "execution_count": 23,
     "metadata": {},
     "output_type": "execute_result"
    }
   ],
   "source": [
    "from sklearn.model_selection import cross_val_score\n",
    "scores = cross_val_score(clf, X, y, cv=5)\n",
    "scores"
   ]
  },
  {
   "cell_type": "markdown",
   "id": "527166d0",
   "metadata": {},
   "source": [
    "#### Aplicamos la validación cruzada estratificada"
   ]
  },
  {
   "cell_type": "code",
   "execution_count": 24,
   "id": "0ed1525e",
   "metadata": {},
   "outputs": [
    {
     "name": "stdout",
     "output_type": "stream",
     "text": [
      "[1.0, 0.9666666666666667, 0.9, 1.0, 0.9]\n"
     ]
    }
   ],
   "source": [
    "from sklearn.model_selection import StratifiedKFold\n",
    "\n",
    "skf = StratifiedKFold(n_splits=5, shuffle=True, random_state=42)\n",
    "\n",
    "stratified_scores = []\n",
    "for train_index, test_index in skf.split(X, y):\n",
    "    X_train, X_test = X[train_index], X[test_index]\n",
    "    y_train, y_test = y[train_index], y[test_index]\n",
    "\n",
    "    clf.fit(X_train, y_train)\n",
    "    score = clf.score(X_test, y_test)\n",
    "    stratified_scores.append(score)\n",
    "\n",
    "print(stratified_scores)\n"
   ]
  },
  {
   "cell_type": "markdown",
   "id": "c0c1053c",
   "metadata": {},
   "source": [
    "#### Visualizamos los resultados "
   ]
  },
  {
   "cell_type": "code",
   "execution_count": 25,
   "id": "29e71426",
   "metadata": {},
   "outputs": [
    {
     "name": "stdout",
     "output_type": "stream",
     "text": [
      "[0.96666667 0.96666667 0.96666667 0.93333333 1.        ]\n",
      "[1.0, 0.9666666666666667, 0.9, 1.0, 0.9]\n"
     ]
    }
   ],
   "source": [
    "print(scores)\n",
    "print(stratified_scores)\n"
   ]
  },
  {
   "cell_type": "markdown",
   "id": "c5f1200e",
   "metadata": {},
   "source": [
    "#### Conclusión "
   ]
  },
  {
   "cell_type": "markdown",
   "id": "8fc17c14",
   "metadata": {},
   "source": [
    "Los resultados de las dos estrategias de validación cruzada son similares. En ambos casos el accuracy promedio es de 0.96. Sin embargo la validación cruzada estratificada tiene una menor dispersión de los resultados, lo que significa que los resultados son más consistentes. Esto se debe a que la validación cruzada estratificada ayuda a garantizar que el modelo sea capaz de generalizar a nuevos datos con una distribución similar a la de los datos de entrenamiento.\n",
    "\n",
    "En conclusión, la validación cruzada estratificada es una mejor opción que la validación cruzada K-Fold estándar para evaluar la capacidad predictiva del modelo en este caso."
   ]
  },
  {
   "cell_type": "markdown",
   "id": "4a2e2cc1-474a-4b53-9353-24af530827c2",
   "metadata": {},
   "source": [
    "### Pregunta 8"
   ]
  },
  {
   "cell_type": "markdown",
   "id": "7491e1b2-3643-43a7-9507-fc70aab0953d",
   "metadata": {},
   "source": [
    "##### Buscar parámetros óptimos con GridSearchCV entrenando modelos SVM\n",
    "\n",
    "- Importa las librerías y módulos necesarios de Python y Scikit-Learn, incluyendo el módulo svm para el modelo SVM y model_selection para GridSearchCV\n",
    "- Elige y carga un dataset de Scikit-Learn adecuado para trabajar con un modelo SVM\n",
    "- Divide el dataset en conjuntos de entrenamiento y prueba utilizando la función train_test_split\n",
    "- Crea una instancia del modelo SVM que deseas optimizar\n",
    "- Establece un diccionario de parámetros para probar con GridSearch. Incluye parámetros como C, kernel, gamma y otros relevantes para el modelo SVM\n",
    "- Configura GridSearchCV con el modelo SVM, el diccionario de parámetros, y cualquier otra configuración relevante como la métrica de evaluación y el número de folds para la validación cruzada\n",
    "- Entrena GridSearchCV con el conjunto de entrenamiento para buscar los mejores parámetros\n",
    "- Una vez que GridSearchCV haya encontrado la mejor combinación de parámetros, evalúa este modelo óptimo en el conjunto de prueba\n",
    "- Utiliza métricas de rendimiento adecuadas, como la precisión o el área bajo la curva ROC, para evaluar su desempeño\n",
    "- Revisa los parámetros que GridSearchCV ha identificado como óptimos"
   ]
  },
  {
   "cell_type": "markdown",
   "id": "e04fe7c1",
   "metadata": {},
   "source": [
    "#### Importar las librerías necesarias"
   ]
  },
  {
   "cell_type": "code",
   "execution_count": 7,
   "id": "c3dcda66-6e57-46e3-b32d-82c31888daea",
   "metadata": {},
   "outputs": [],
   "source": [
    "import numpy as np\n",
    "import matplotlib.pyplot as plt\n",
    "from sklearn import svm, datasets\n",
    "from sklearn.model_selection import GridSearchCV, train_test_split\n",
    "from sklearn.metrics import classification_report, accuracy_score, confusion_matrix\n",
    "from sklearn.preprocessing import StandardScaler\n",
    "from sklearn.pipeline import Pipeline"
   ]
  },
  {
   "cell_type": "markdown",
   "id": "15670cbf",
   "metadata": {},
   "source": [
    "#### Utilizamos el dataset de cáncer de mama de Scikit-Learn. contiene información sobre 569 tumores de mama, cada uno de los cuales está etiquetado como benigno o maligno."
   ]
  },
  {
   "cell_type": "code",
   "execution_count": 8,
   "id": "d2c03785-2578-4fd0-af17-996168b9bc68",
   "metadata": {},
   "outputs": [],
   "source": [
    "X, y = datasets.load_breast_cancer(return_X_y=True)"
   ]
  },
  {
   "cell_type": "markdown",
   "id": "6daf2e19",
   "metadata": {},
   "source": [
    "#### Dividimos el dataset en conjuntos de entrenamiento y prueba"
   ]
  },
  {
   "cell_type": "code",
   "execution_count": 9,
   "id": "a73975fe",
   "metadata": {},
   "outputs": [],
   "source": [
    "X_train, X_test, y_train, y_test = train_test_split(X, y, test_size=0.25, random_state=15)\n"
   ]
  },
  {
   "cell_type": "markdown",
   "id": "e2c02e57",
   "metadata": {},
   "source": [
    "#### Configuramos un pipeline y definimos los parámetros para GridSearchCV:"
   ]
  },
  {
   "cell_type": "code",
   "execution_count": 11,
   "id": "2bd83b32",
   "metadata": {},
   "outputs": [],
   "source": [
    "pipeline = Pipeline([('scaler', StandardScaler()), ('svm', svm.SVC())])\n",
    "param_grid = {\n",
    "    'svm__C': [0.1, 1, 10, 100],\n",
    "    'svm__kernel': ['linear', 'rbf', 'poly'],\n",
    "    'svm__gamma': [1, 0.1, 0.01, 0.001]\n",
    "}\n",
    "\n",
    "\n"
   ]
  },
  {
   "cell_type": "markdown",
   "id": "07f3d068",
   "metadata": {},
   "source": [
    "GridSearchCV nos permite probar diferentes combinaciones de parámetros para encontrar la combinación que mejor se adapte a nuestros datos. En este caso, estamos probando cuatro valores diferentes para el parámetro C, tres valores diferentes para el parámetro kernel y cuatro valores diferentes para el parámetro gamma."
   ]
  },
  {
   "cell_type": "markdown",
   "id": "33b5790e",
   "metadata": {},
   "source": [
    " #### Configuramos GridSearchCV"
   ]
  },
  {
   "cell_type": "code",
   "execution_count": 12,
   "id": "e315155b",
   "metadata": {},
   "outputs": [],
   "source": [
    "grid_search = GridSearchCV(pipeline, param_grid, cv=5, scoring='accuracy', n_jobs=-1)\n"
   ]
  },
  {
   "cell_type": "markdown",
   "id": "8196cfe2",
   "metadata": {},
   "source": [
    "Utilizamos un pipeline que incluye normalización y clasificación SVM, explora combinaciones de parámetros definidas en param_grid, evalúa con validación cruzada de 5 pliegues (cv=5), usa la precisión como métrica (scoring='accuracy') y realiza cálculos en paralelo con todos los procesadores disponibles (n_jobs=-1)."
   ]
  },
  {
   "cell_type": "markdown",
   "id": "031649dc",
   "metadata": {},
   "source": [
    "#### Entrenamos GridSearchCV con el conjunto de entrenamiento"
   ]
  },
  {
   "cell_type": "code",
   "execution_count": 13,
   "id": "5c865800",
   "metadata": {},
   "outputs": [
    {
     "data": {
      "text/html": [
       "<style>#sk-container-id-1 {color: black;}#sk-container-id-1 pre{padding: 0;}#sk-container-id-1 div.sk-toggleable {background-color: white;}#sk-container-id-1 label.sk-toggleable__label {cursor: pointer;display: block;width: 100%;margin-bottom: 0;padding: 0.3em;box-sizing: border-box;text-align: center;}#sk-container-id-1 label.sk-toggleable__label-arrow:before {content: \"▸\";float: left;margin-right: 0.25em;color: #696969;}#sk-container-id-1 label.sk-toggleable__label-arrow:hover:before {color: black;}#sk-container-id-1 div.sk-estimator:hover label.sk-toggleable__label-arrow:before {color: black;}#sk-container-id-1 div.sk-toggleable__content {max-height: 0;max-width: 0;overflow: hidden;text-align: left;background-color: #f0f8ff;}#sk-container-id-1 div.sk-toggleable__content pre {margin: 0.2em;color: black;border-radius: 0.25em;background-color: #f0f8ff;}#sk-container-id-1 input.sk-toggleable__control:checked~div.sk-toggleable__content {max-height: 200px;max-width: 100%;overflow: auto;}#sk-container-id-1 input.sk-toggleable__control:checked~label.sk-toggleable__label-arrow:before {content: \"▾\";}#sk-container-id-1 div.sk-estimator input.sk-toggleable__control:checked~label.sk-toggleable__label {background-color: #d4ebff;}#sk-container-id-1 div.sk-label input.sk-toggleable__control:checked~label.sk-toggleable__label {background-color: #d4ebff;}#sk-container-id-1 input.sk-hidden--visually {border: 0;clip: rect(1px 1px 1px 1px);clip: rect(1px, 1px, 1px, 1px);height: 1px;margin: -1px;overflow: hidden;padding: 0;position: absolute;width: 1px;}#sk-container-id-1 div.sk-estimator {font-family: monospace;background-color: #f0f8ff;border: 1px dotted black;border-radius: 0.25em;box-sizing: border-box;margin-bottom: 0.5em;}#sk-container-id-1 div.sk-estimator:hover {background-color: #d4ebff;}#sk-container-id-1 div.sk-parallel-item::after {content: \"\";width: 100%;border-bottom: 1px solid gray;flex-grow: 1;}#sk-container-id-1 div.sk-label:hover label.sk-toggleable__label {background-color: #d4ebff;}#sk-container-id-1 div.sk-serial::before {content: \"\";position: absolute;border-left: 1px solid gray;box-sizing: border-box;top: 0;bottom: 0;left: 50%;z-index: 0;}#sk-container-id-1 div.sk-serial {display: flex;flex-direction: column;align-items: center;background-color: white;padding-right: 0.2em;padding-left: 0.2em;position: relative;}#sk-container-id-1 div.sk-item {position: relative;z-index: 1;}#sk-container-id-1 div.sk-parallel {display: flex;align-items: stretch;justify-content: center;background-color: white;position: relative;}#sk-container-id-1 div.sk-item::before, #sk-container-id-1 div.sk-parallel-item::before {content: \"\";position: absolute;border-left: 1px solid gray;box-sizing: border-box;top: 0;bottom: 0;left: 50%;z-index: -1;}#sk-container-id-1 div.sk-parallel-item {display: flex;flex-direction: column;z-index: 1;position: relative;background-color: white;}#sk-container-id-1 div.sk-parallel-item:first-child::after {align-self: flex-end;width: 50%;}#sk-container-id-1 div.sk-parallel-item:last-child::after {align-self: flex-start;width: 50%;}#sk-container-id-1 div.sk-parallel-item:only-child::after {width: 0;}#sk-container-id-1 div.sk-dashed-wrapped {border: 1px dashed gray;margin: 0 0.4em 0.5em 0.4em;box-sizing: border-box;padding-bottom: 0.4em;background-color: white;}#sk-container-id-1 div.sk-label label {font-family: monospace;font-weight: bold;display: inline-block;line-height: 1.2em;}#sk-container-id-1 div.sk-label-container {text-align: center;}#sk-container-id-1 div.sk-container {/* jupyter's `normalize.less` sets `[hidden] { display: none; }` but bootstrap.min.css set `[hidden] { display: none !important; }` so we also need the `!important` here to be able to override the default hidden behavior on the sphinx rendered scikit-learn.org. See: https://github.com/scikit-learn/scikit-learn/issues/21755 */display: inline-block !important;position: relative;}#sk-container-id-1 div.sk-text-repr-fallback {display: none;}</style><div id=\"sk-container-id-1\" class=\"sk-top-container\"><div class=\"sk-text-repr-fallback\"><pre>GridSearchCV(cv=5,\n",
       "             estimator=Pipeline(steps=[(&#x27;scaler&#x27;, StandardScaler()),\n",
       "                                       (&#x27;svm&#x27;, SVC())]),\n",
       "             n_jobs=-1,\n",
       "             param_grid={&#x27;svm__C&#x27;: [0.1, 1, 10, 100],\n",
       "                         &#x27;svm__gamma&#x27;: [1, 0.1, 0.01, 0.001],\n",
       "                         &#x27;svm__kernel&#x27;: [&#x27;linear&#x27;, &#x27;rbf&#x27;, &#x27;poly&#x27;]},\n",
       "             scoring=&#x27;accuracy&#x27;)</pre><b>In a Jupyter environment, please rerun this cell to show the HTML representation or trust the notebook. <br />On GitHub, the HTML representation is unable to render, please try loading this page with nbviewer.org.</b></div><div class=\"sk-container\" hidden><div class=\"sk-item sk-dashed-wrapped\"><div class=\"sk-label-container\"><div class=\"sk-label sk-toggleable\"><input class=\"sk-toggleable__control sk-hidden--visually\" id=\"sk-estimator-id-1\" type=\"checkbox\" ><label for=\"sk-estimator-id-1\" class=\"sk-toggleable__label sk-toggleable__label-arrow\">GridSearchCV</label><div class=\"sk-toggleable__content\"><pre>GridSearchCV(cv=5,\n",
       "             estimator=Pipeline(steps=[(&#x27;scaler&#x27;, StandardScaler()),\n",
       "                                       (&#x27;svm&#x27;, SVC())]),\n",
       "             n_jobs=-1,\n",
       "             param_grid={&#x27;svm__C&#x27;: [0.1, 1, 10, 100],\n",
       "                         &#x27;svm__gamma&#x27;: [1, 0.1, 0.01, 0.001],\n",
       "                         &#x27;svm__kernel&#x27;: [&#x27;linear&#x27;, &#x27;rbf&#x27;, &#x27;poly&#x27;]},\n",
       "             scoring=&#x27;accuracy&#x27;)</pre></div></div></div><div class=\"sk-parallel\"><div class=\"sk-parallel-item\"><div class=\"sk-item\"><div class=\"sk-label-container\"><div class=\"sk-label sk-toggleable\"><input class=\"sk-toggleable__control sk-hidden--visually\" id=\"sk-estimator-id-2\" type=\"checkbox\" ><label for=\"sk-estimator-id-2\" class=\"sk-toggleable__label sk-toggleable__label-arrow\">estimator: Pipeline</label><div class=\"sk-toggleable__content\"><pre>Pipeline(steps=[(&#x27;scaler&#x27;, StandardScaler()), (&#x27;svm&#x27;, SVC())])</pre></div></div></div><div class=\"sk-serial\"><div class=\"sk-item\"><div class=\"sk-serial\"><div class=\"sk-item\"><div class=\"sk-estimator sk-toggleable\"><input class=\"sk-toggleable__control sk-hidden--visually\" id=\"sk-estimator-id-3\" type=\"checkbox\" ><label for=\"sk-estimator-id-3\" class=\"sk-toggleable__label sk-toggleable__label-arrow\">StandardScaler</label><div class=\"sk-toggleable__content\"><pre>StandardScaler()</pre></div></div></div><div class=\"sk-item\"><div class=\"sk-estimator sk-toggleable\"><input class=\"sk-toggleable__control sk-hidden--visually\" id=\"sk-estimator-id-4\" type=\"checkbox\" ><label for=\"sk-estimator-id-4\" class=\"sk-toggleable__label sk-toggleable__label-arrow\">SVC</label><div class=\"sk-toggleable__content\"><pre>SVC()</pre></div></div></div></div></div></div></div></div></div></div></div></div>"
      ],
      "text/plain": [
       "GridSearchCV(cv=5,\n",
       "             estimator=Pipeline(steps=[('scaler', StandardScaler()),\n",
       "                                       ('svm', SVC())]),\n",
       "             n_jobs=-1,\n",
       "             param_grid={'svm__C': [0.1, 1, 10, 100],\n",
       "                         'svm__gamma': [1, 0.1, 0.01, 0.001],\n",
       "                         'svm__kernel': ['linear', 'rbf', 'poly']},\n",
       "             scoring='accuracy')"
      ]
     },
     "execution_count": 13,
     "metadata": {},
     "output_type": "execute_result"
    }
   ],
   "source": [
    "grid_search.fit(X_train, y_train)"
   ]
  },
  {
   "cell_type": "markdown",
   "id": "2b775d57",
   "metadata": {},
   "source": [
    "#### Obtenemos los parámetros óptimos"
   ]
  },
  {
   "cell_type": "code",
   "execution_count": 14,
   "id": "0bf41fbd",
   "metadata": {},
   "outputs": [],
   "source": [
    "\n",
    "best_model = grid_search.best_estimator_\n",
    "y_pred = best_model.predict(X_test)\n"
   ]
  },
  {
   "cell_type": "markdown",
   "id": "6040b9ba",
   "metadata": {},
   "source": [
    "#### Evaluamos el modelo óptimo en el conjunto de prueba"
   ]
  },
  {
   "cell_type": "code",
   "execution_count": 15,
   "id": "31b38429",
   "metadata": {},
   "outputs": [],
   "source": [
    "best_parameters = grid_search.best_params_\n",
    "accuracy = accuracy_score(y_test, y_pred)"
   ]
  },
  {
   "cell_type": "markdown",
   "id": "34283fa6",
   "metadata": {},
   "source": [
    "#### Visualizamos los parámetros óptimos y la precisión"
   ]
  },
  {
   "cell_type": "code",
   "execution_count": 16,
   "id": "5fab109f",
   "metadata": {},
   "outputs": [
    {
     "name": "stdout",
     "output_type": "stream",
     "text": [
      "Mejores parámetros: {'svm__C': 10, 'svm__gamma': 1, 'svm__kernel': 'linear'}\n",
      "Precisión: 0.9300699300699301\n",
      "Informe de Clasificación:\n",
      "               precision    recall  f1-score   support\n",
      "\n",
      "           0       0.94      0.87      0.90        53\n",
      "           1       0.93      0.97      0.95        90\n",
      "\n",
      "    accuracy                           0.93       143\n",
      "   macro avg       0.93      0.92      0.92       143\n",
      "weighted avg       0.93      0.93      0.93       143\n",
      "\n",
      "Matriz de Confusión:\n",
      " [[46  7]\n",
      " [ 3 87]]\n"
     ]
    }
   ],
   "source": [
    "print(\"Mejores parámetros:\", best_parameters)\n",
    "print(\"Precisión:\", accuracy)\n",
    "print(\"Informe de Clasificación:\\n\", classification_report(y_test, y_pred))\n",
    "print(\"Matriz de Confusión:\\n\", confusion_matrix(y_test, y_pred))\n"
   ]
  },
  {
   "cell_type": "markdown",
   "id": "1490a25e",
   "metadata": {},
   "source": [
    "El mejor modelo SVM, obtenido a través de GridSearchCV, presenta los parámetros C=10, gamma=1, y kernel=linear. Este modelo logró una precisión del 93% en el conjunto de prueba. El informe de clasificación muestra un alto equilibrio entre precisión y recall, indicando un rendimiento sólido tanto en la detección de la clase positiva como en la negativa. La matriz de confusión revela que el modelo tuvo 46 verdaderos negativos y 87 verdaderos positivos, con solo 10 predicciones incorrectas, lo que subraya su eficacia en la clasificación en este contexto específico."
   ]
  },
  {
   "cell_type": "markdown",
   "id": "a3e16e26-799d-4074-8890-92fa62aaca89",
   "metadata": {},
   "source": [
    "### Pregunta 9"
   ]
  },
  {
   "cell_type": "markdown",
   "id": "1d7566be-f4af-4ad4-ae63-dfa24350fe8d",
   "metadata": {},
   "source": [
    "##### Evaluación de Distintas Métricas en un Modelo de Clasificación Multiclase con Scikit-Learn\n",
    "\n",
    "- Elige y carga un dataset de Scikit-Learn que sea adecuado para una tarea de clasificación multiclase (o incluso el de las frutas de las primeras clases)\n",
    "- Divide el dataset en conjuntos de entrenamiento y prueba utilizando la función train_test_split\n",
    "- Utiliza un modelo KNN para clasificación\n",
    "- Entrena el modelo utilizando el conjunto de datos de entrenamiento\n",
    "- Utiliza distintas métricas de evaluación de clasificación adecuadas para clasificación multiclase, como la precisión, la sensibilidad (recall), la puntuación F1, la matriz de confusión, y el área bajo la curva ROC (AUC) para cada clase\n",
    "- Aplica estas métricas al modelo utilizando el conjunto de datos de prueba\n",
    "- Examina los resultados obtenidos para cada métrica\n",
    "- Considera la importancia de cada métrica en el contexto de tu problema específico de clasificación multiclase\n",
    "- Basándote en las métricas evaluadas, concluye sobre el rendimiento general del modelo en la tarea de clasificación multiclase"
   ]
  },
  {
   "cell_type": "markdown",
   "id": "85ee2135",
   "metadata": {},
   "source": [
    "#### Utilizamos el data set IRIS "
   ]
  },
  {
   "cell_type": "code",
   "execution_count": 24,
   "id": "e1d0e373-a817-480f-9064-1b305b7c2cc7",
   "metadata": {},
   "outputs": [],
   "source": [
    "from sklearn.datasets import load_iris\n",
    "from sklearn.model_selection import train_test_split\n",
    "\n",
    "# Cargamos el dataset\n",
    "iris = load_iris()\n",
    "\n",
    "# Dividimos el dataset en conjuntos de entrenamiento 0.75 y prueba 0.25\n",
    "X_train, X_test, y_train, y_test = train_test_split(iris.data, iris.target, test_size=0.25)\n"
   ]
  },
  {
   "cell_type": "markdown",
   "id": "7dee9f18",
   "metadata": {},
   "source": [
    "#### El modelo KNN clasifica una muestra en función de las k muestras más cercanas a ella en el espacio de características. En este caso, utilizaremos k=5."
   ]
  },
  {
   "cell_type": "code",
   "execution_count": 25,
   "id": "e60e36b1",
   "metadata": {},
   "outputs": [
    {
     "data": {
      "text/html": [
       "<style>#sk-container-id-5 {color: black;}#sk-container-id-5 pre{padding: 0;}#sk-container-id-5 div.sk-toggleable {background-color: white;}#sk-container-id-5 label.sk-toggleable__label {cursor: pointer;display: block;width: 100%;margin-bottom: 0;padding: 0.3em;box-sizing: border-box;text-align: center;}#sk-container-id-5 label.sk-toggleable__label-arrow:before {content: \"▸\";float: left;margin-right: 0.25em;color: #696969;}#sk-container-id-5 label.sk-toggleable__label-arrow:hover:before {color: black;}#sk-container-id-5 div.sk-estimator:hover label.sk-toggleable__label-arrow:before {color: black;}#sk-container-id-5 div.sk-toggleable__content {max-height: 0;max-width: 0;overflow: hidden;text-align: left;background-color: #f0f8ff;}#sk-container-id-5 div.sk-toggleable__content pre {margin: 0.2em;color: black;border-radius: 0.25em;background-color: #f0f8ff;}#sk-container-id-5 input.sk-toggleable__control:checked~div.sk-toggleable__content {max-height: 200px;max-width: 100%;overflow: auto;}#sk-container-id-5 input.sk-toggleable__control:checked~label.sk-toggleable__label-arrow:before {content: \"▾\";}#sk-container-id-5 div.sk-estimator input.sk-toggleable__control:checked~label.sk-toggleable__label {background-color: #d4ebff;}#sk-container-id-5 div.sk-label input.sk-toggleable__control:checked~label.sk-toggleable__label {background-color: #d4ebff;}#sk-container-id-5 input.sk-hidden--visually {border: 0;clip: rect(1px 1px 1px 1px);clip: rect(1px, 1px, 1px, 1px);height: 1px;margin: -1px;overflow: hidden;padding: 0;position: absolute;width: 1px;}#sk-container-id-5 div.sk-estimator {font-family: monospace;background-color: #f0f8ff;border: 1px dotted black;border-radius: 0.25em;box-sizing: border-box;margin-bottom: 0.5em;}#sk-container-id-5 div.sk-estimator:hover {background-color: #d4ebff;}#sk-container-id-5 div.sk-parallel-item::after {content: \"\";width: 100%;border-bottom: 1px solid gray;flex-grow: 1;}#sk-container-id-5 div.sk-label:hover label.sk-toggleable__label {background-color: #d4ebff;}#sk-container-id-5 div.sk-serial::before {content: \"\";position: absolute;border-left: 1px solid gray;box-sizing: border-box;top: 0;bottom: 0;left: 50%;z-index: 0;}#sk-container-id-5 div.sk-serial {display: flex;flex-direction: column;align-items: center;background-color: white;padding-right: 0.2em;padding-left: 0.2em;position: relative;}#sk-container-id-5 div.sk-item {position: relative;z-index: 1;}#sk-container-id-5 div.sk-parallel {display: flex;align-items: stretch;justify-content: center;background-color: white;position: relative;}#sk-container-id-5 div.sk-item::before, #sk-container-id-5 div.sk-parallel-item::before {content: \"\";position: absolute;border-left: 1px solid gray;box-sizing: border-box;top: 0;bottom: 0;left: 50%;z-index: -1;}#sk-container-id-5 div.sk-parallel-item {display: flex;flex-direction: column;z-index: 1;position: relative;background-color: white;}#sk-container-id-5 div.sk-parallel-item:first-child::after {align-self: flex-end;width: 50%;}#sk-container-id-5 div.sk-parallel-item:last-child::after {align-self: flex-start;width: 50%;}#sk-container-id-5 div.sk-parallel-item:only-child::after {width: 0;}#sk-container-id-5 div.sk-dashed-wrapped {border: 1px dashed gray;margin: 0 0.4em 0.5em 0.4em;box-sizing: border-box;padding-bottom: 0.4em;background-color: white;}#sk-container-id-5 div.sk-label label {font-family: monospace;font-weight: bold;display: inline-block;line-height: 1.2em;}#sk-container-id-5 div.sk-label-container {text-align: center;}#sk-container-id-5 div.sk-container {/* jupyter's `normalize.less` sets `[hidden] { display: none; }` but bootstrap.min.css set `[hidden] { display: none !important; }` so we also need the `!important` here to be able to override the default hidden behavior on the sphinx rendered scikit-learn.org. See: https://github.com/scikit-learn/scikit-learn/issues/21755 */display: inline-block !important;position: relative;}#sk-container-id-5 div.sk-text-repr-fallback {display: none;}</style><div id=\"sk-container-id-5\" class=\"sk-top-container\"><div class=\"sk-text-repr-fallback\"><pre>KNeighborsClassifier()</pre><b>In a Jupyter environment, please rerun this cell to show the HTML representation or trust the notebook. <br />On GitHub, the HTML representation is unable to render, please try loading this page with nbviewer.org.</b></div><div class=\"sk-container\" hidden><div class=\"sk-item\"><div class=\"sk-estimator sk-toggleable\"><input class=\"sk-toggleable__control sk-hidden--visually\" id=\"sk-estimator-id-8\" type=\"checkbox\" checked><label for=\"sk-estimator-id-8\" class=\"sk-toggleable__label sk-toggleable__label-arrow\">KNeighborsClassifier</label><div class=\"sk-toggleable__content\"><pre>KNeighborsClassifier()</pre></div></div></div></div></div>"
      ],
      "text/plain": [
       "KNeighborsClassifier()"
      ]
     },
     "execution_count": 25,
     "metadata": {},
     "output_type": "execute_result"
    }
   ],
   "source": [
    "from sklearn.neighbors import KNeighborsClassifier\n",
    "\n",
    "# Creamos el modelo KNN\n",
    "knn = KNeighborsClassifier(n_neighbors=5)\n",
    "\n",
    "# Entrenamos el modelo\n",
    "knn.fit(X_train, y_train)\n",
    "\n"
   ]
  },
  {
   "cell_type": "markdown",
   "id": "1a0d0759",
   "metadata": {},
   "source": [
    "#### Utilizamos distintas métricas de evaluación de clasificación adecuadas para clasificación multiclase, como la precisión, la sensibilidad (recall), la puntuación F1, la matriz de confusión, y el área bajo la curva ROC (AUC) para cada clase"
   ]
  },
  {
   "cell_type": "code",
   "execution_count": 26,
   "id": "36a6b660",
   "metadata": {},
   "outputs": [
    {
     "name": "stdout",
     "output_type": "stream",
     "text": [
      "Precisión: 0.9736842105263158\n",
      "Sensibilidad (Recall): 0.9743589743589745\n",
      "Puntuación F1: 0.9721739130434782\n",
      "Matriz de Confusión:\n",
      " [[14  0  0]\n",
      " [ 0 12  1]\n",
      " [ 0  0 11]]\n",
      "AUC promedio: 0.9957040490373824\n"
     ]
    }
   ],
   "source": [
    "from sklearn.metrics import accuracy_score, recall_score, f1_score, confusion_matrix, roc_auc_score\n",
    "from sklearn.preprocessing import label_binarize\n",
    "from sklearn.metrics import roc_curve, auc\n",
    "import numpy as np\n",
    "\n",
    "# Precisión\n",
    "precision = accuracy_score(y_test, knn.predict(X_test))\n",
    "print(f\"Precisión: {precision}\")\n",
    "\n",
    "# Sensibilidad (Recall)\n",
    "recall = recall_score(y_test, knn.predict(X_test), average='macro')\n",
    "print(f\"Sensibilidad (Recall): {recall}\")\n",
    "\n",
    "# Puntuación F1\n",
    "f1 = f1_score(y_test, knn.predict(X_test), average='macro')\n",
    "print(f\"Puntuación F1: {f1}\")\n",
    "\n",
    "# Matriz de Confusión\n",
    "matriz_confusion = confusion_matrix(y_test, knn.predict(X_test))\n",
    "print(\"Matriz de Confusión:\\n\", matriz_confusion)\n",
    "\n",
    "# AUC\n",
    "y_test_bin = label_binarize(y_test, classes=np.unique(y_train))\n",
    "y_score = knn.predict_proba(X_test)\n",
    "n_classes = y_test_bin.shape[1]\n",
    "fpr = dict()\n",
    "tpr = dict()\n",
    "roc_auc = dict()\n",
    "for i in range(n_classes):\n",
    "    fpr[i], tpr[i], _ = roc_curve(y_test_bin[:, i], y_score[:, i])\n",
    "    roc_auc[i] = auc(fpr[i], tpr[i])\n",
    "auc_score = np.mean(list(roc_auc.values()))\n",
    "print(f\"AUC promedio: {auc_score}\")\n"
   ]
  },
  {
   "cell_type": "markdown",
   "id": "32b272d7",
   "metadata": {},
   "source": [
    "#### Conclusión"
   ]
  },
  {
   "cell_type": "markdown",
   "id": "9bf901d8",
   "metadata": {},
   "source": [
    "La precisión, la sensibilidad y la puntuación F1 son altas, lo que indica que el modelo está clasificando las muestras con precisión. En general, el rendimiento del modelo en la tarea de clasificación multiclase es muy bueno. El modelo clasifica correctamente las muestras, y no comete muchos errores de clasificación en las clases setosa y virginica."
   ]
  },
  {
   "cell_type": "code",
   "execution_count": null,
   "id": "13e06c05-dc08-43f3-94b2-de9e1f2b0c81",
   "metadata": {},
   "outputs": [],
   "source": []
  }
 ],
 "metadata": {
  "kernelspec": {
   "display_name": "Python 3 (ipykernel)",
   "language": "python",
   "name": "python3"
  },
  "language_info": {
   "codemirror_mode": {
    "name": "ipython",
    "version": 3
   },
   "file_extension": ".py",
   "mimetype": "text/x-python",
   "name": "python",
   "nbconvert_exporter": "python",
   "pygments_lexer": "ipython3",
   "version": "3.11.5"
  }
 },
 "nbformat": 4,
 "nbformat_minor": 5
}
